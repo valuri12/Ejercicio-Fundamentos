{
 "cells": [
  {
   "cell_type": "code",
   "execution_count": 5,
   "id": "9a221521",
   "metadata": {},
   "outputs": [],
   "source": [
    "my_string = \"\"\" \n",
    "Este es un producto muy bueno, excelente, maravilloso \n",
    "\"\"\" "
   ]
  },
  {
   "cell_type": "code",
   "execution_count": null,
   "id": "579d93fe",
   "metadata": {},
   "outputs": [],
   "source": []
  }
 ],
 "metadata": {
  "kernelspec": {
   "display_name": "Python 3 (ipykernel)",
   "language": "python",
   "name": "python3"
  },
  "language_info": {
   "codemirror_mode": {
    "name": "ipython",
    "version": 3
   },
   "file_extension": ".py",
   "mimetype": "text/x-python",
   "name": "python",
   "nbconvert_exporter": "python",
   "pygments_lexer": "ipython3",
   "version": "3.11.5"
  }
 },
 "nbformat": 4,
 "nbformat_minor": 5
}
