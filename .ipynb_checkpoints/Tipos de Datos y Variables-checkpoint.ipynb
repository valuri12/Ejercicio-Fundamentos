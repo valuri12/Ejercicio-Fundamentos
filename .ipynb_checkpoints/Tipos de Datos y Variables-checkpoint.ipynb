{
 "cells": [
  {
   "cell_type": "markdown",
   "id": "01496dbf",
   "metadata": {},
   "source": [
    "# Calculadora"
   ]
  },
  {
   "cell_type": "code",
   "execution_count": 1,
   "id": "3af87a8c",
   "metadata": {},
   "outputs": [
    {
     "name": "stdout",
     "output_type": "stream",
     "text": [
      "Ingresa la operación a realizarSuma\n"
     ]
    },
    {
     "data": {
      "text/plain": [
       "'Suma'"
      ]
     },
     "execution_count": 1,
     "metadata": {},
     "output_type": "execute_result"
    }
   ],
   "source": [
    "input(\"Ingresa la operación a realizar\")"
   ]
  },
  {
   "cell_type": "code",
   "execution_count": 2,
   "id": "2697c8b5",
   "metadata": {},
   "outputs": [
    {
     "name": "stdout",
     "output_type": "stream",
     "text": [
      "Ingresa los 2 valores:125 478\n",
      "El valor de a es: 125\n",
      "El valor de b es: 478\n"
     ]
    }
   ],
   "source": [
    "a,b=input(\"Ingresa los 2 valores:\").split()\n",
    "print(\"El valor de a es:\",a)\n",
    "print(\"El valor de b es:\",b)"
   ]
  },
  {
   "cell_type": "code",
   "execution_count": 3,
   "id": "e1af7782",
   "metadata": {},
   "outputs": [
    {
     "name": "stdout",
     "output_type": "stream",
     "text": [
      "603\n"
     ]
    }
   ],
   "source": [
    "print(125+478)"
   ]
  },
  {
   "cell_type": "code",
   "execution_count": 4,
   "id": "2ea0b256",
   "metadata": {},
   "outputs": [
    {
     "name": "stdout",
     "output_type": "stream",
     "text": [
      "Ingresa la operación a realizarResta\n"
     ]
    },
    {
     "data": {
      "text/plain": [
       "'Resta'"
      ]
     },
     "execution_count": 4,
     "metadata": {},
     "output_type": "execute_result"
    }
   ],
   "source": [
    "input(\"Ingresa la operación a realizar\")"
   ]
  },
  {
   "cell_type": "code",
   "execution_count": 5,
   "id": "6ce1f911",
   "metadata": {},
   "outputs": [
    {
     "name": "stdout",
     "output_type": "stream",
     "text": [
      "Ingresa los 2 valores:12.5 9.2\n",
      "El valor de a es: 12.5\n",
      "El valor de b es: 9.2\n"
     ]
    }
   ],
   "source": [
    "a,b=input(\"Ingresa los 2 valores:\").split()\n",
    "print(\"El valor de a es:\",a)\n",
    "print(\"El valor de b es:\",b)"
   ]
  },
  {
   "cell_type": "code",
   "execution_count": 6,
   "id": "27381852",
   "metadata": {},
   "outputs": [
    {
     "name": "stdout",
     "output_type": "stream",
     "text": [
      "<class 'float'>\n"
     ]
    }
   ],
   "source": [
    "print(type(12.5-9.2))"
   ]
  },
  {
   "cell_type": "code",
   "execution_count": 7,
   "id": "b3ecaac1",
   "metadata": {},
   "outputs": [
    {
     "name": "stdout",
     "output_type": "stream",
     "text": [
      "3.3000000000000007\n"
     ]
    }
   ],
   "source": [
    "print(12.5-9.2)"
   ]
  },
  {
   "cell_type": "code",
   "execution_count": 8,
   "id": "3b1dee8a",
   "metadata": {},
   "outputs": [
    {
     "name": "stdout",
     "output_type": "stream",
     "text": [
      "Ingresa la operación a realizarmultiplicación\n"
     ]
    },
    {
     "data": {
      "text/plain": [
       "'multiplicación'"
      ]
     },
     "execution_count": 8,
     "metadata": {},
     "output_type": "execute_result"
    }
   ],
   "source": [
    "input(\"Ingresa la operación a realizar\")"
   ]
  },
  {
   "cell_type": "code",
   "execution_count": 9,
   "id": "829aff9f",
   "metadata": {},
   "outputs": [
    {
     "name": "stdout",
     "output_type": "stream",
     "text": [
      "Ingresa los 2 valores:10 8\n",
      "El valor de a es: 10\n",
      "El valor de b es: 8\n"
     ]
    }
   ],
   "source": [
    "a,b=input(\"Ingresa los 2 valores:\").split()\n",
    "print(\"El valor de a es:\",a)\n",
    "print(\"El valor de b es:\",b)"
   ]
  },
  {
   "cell_type": "code",
   "execution_count": 10,
   "id": "eec31b75",
   "metadata": {},
   "outputs": [
    {
     "ename": "NameError",
     "evalue": "name 'ob10' is not defined",
     "output_type": "error",
     "traceback": [
      "\u001b[1;31m---------------------------------------------------------------------------\u001b[0m",
      "\u001b[1;31mNameError\u001b[0m                                 Traceback (most recent call last)",
      "Cell \u001b[1;32mIn[10], line 1\u001b[0m\n\u001b[1;32m----> 1\u001b[0m \u001b[38;5;28mprint\u001b[39m(ob10\u001b[38;5;241m*\u001b[39m\u001b[38;5;241m8\u001b[39m)\n",
      "\u001b[1;31mNameError\u001b[0m: name 'ob10' is not defined"
     ]
    }
   ],
   "source": [
    "print(ob10*8)"
   ]
  },
  {
   "cell_type": "code",
   "execution_count": 11,
   "id": "5d37f448",
   "metadata": {},
   "outputs": [
    {
     "name": "stdout",
     "output_type": "stream",
     "text": [
      "80\n"
     ]
    }
   ],
   "source": [
    "print(10*8)"
   ]
  },
  {
   "cell_type": "code",
   "execution_count": 12,
   "id": "e58161e7",
   "metadata": {},
   "outputs": [
    {
     "name": "stdout",
     "output_type": "stream",
     "text": [
      "Ingresa la operación a realizarDivisión\n"
     ]
    },
    {
     "data": {
      "text/plain": [
       "'División'"
      ]
     },
     "execution_count": 12,
     "metadata": {},
     "output_type": "execute_result"
    }
   ],
   "source": [
    "input(\"Ingresa la operación a realizar\")"
   ]
  },
  {
   "cell_type": "code",
   "execution_count": 13,
   "id": "5c446f41",
   "metadata": {},
   "outputs": [
    {
     "name": "stdout",
     "output_type": "stream",
     "text": [
      "Ingresa los 2 valores:458 23\n",
      "El valor de a es: 458\n",
      "El valor de b es: 23\n"
     ]
    }
   ],
   "source": [
    "a,b=input(\"Ingresa los 2 valores:\").split()\n",
    "print(\"El valor de a es:\",a)\n",
    "print(\"El valor de b es:\",b)"
   ]
  },
  {
   "cell_type": "code",
   "execution_count": 3,
   "id": "dd54e149",
   "metadata": {},
   "outputs": [
    {
     "name": "stdout",
     "output_type": "stream",
     "text": [
      "19.9130434782608719.91\n"
     ]
    },
    {
     "data": {
      "text/plain": [
       "'19.91'"
      ]
     },
     "execution_count": 3,
     "metadata": {},
     "output_type": "execute_result"
    }
   ],
   "source": [
    "input(458/23)"
   ]
  },
  {
   "cell_type": "code",
   "execution_count": 4,
   "id": "ecd1fd6a",
   "metadata": {},
   "outputs": [
    {
     "name": "stdout",
     "output_type": "stream",
     "text": [
      "Ingresa la operacion a realizarPotencia\n"
     ]
    },
    {
     "data": {
      "text/plain": [
       "'Potencia'"
      ]
     },
     "execution_count": 4,
     "metadata": {},
     "output_type": "execute_result"
    }
   ],
   "source": [
    "input(\"Ingresa la operacion a realizar\")"
   ]
  },
  {
   "cell_type": "code",
   "execution_count": 5,
   "id": "8bb51816",
   "metadata": {},
   "outputs": [
    {
     "name": "stdout",
     "output_type": "stream",
     "text": [
      "Ingresa los 4 valores:4 4 4 4\n",
      "El valor de a es: 4\n",
      "El valor de b es: 4\n",
      "El valor de c es: 4\n",
      "El valor de d es: 4\n"
     ]
    }
   ],
   "source": [
    "a,b,c,d=input(\"Ingresa los 4 valores:\").split()\n",
    "print(\"El valor de a es:\",a)\n",
    "print(\"El valor de b es:\",b)\n",
    "print(\"El valor de c es:\",c)\n",
    "print(\"El valor de d es:\",d)"
   ]
  },
  {
   "cell_type": "code",
   "execution_count": 6,
   "id": "0bb637d4",
   "metadata": {},
   "outputs": [
    {
     "name": "stdout",
     "output_type": "stream",
     "text": [
      "256256\n"
     ]
    },
    {
     "data": {
      "text/plain": [
       "'256'"
      ]
     },
     "execution_count": 6,
     "metadata": {},
     "output_type": "execute_result"
    }
   ],
   "source": [
    "input(4*4*4*4)"
   ]
  },
  {
   "cell_type": "code",
   "execution_count": null,
   "id": "3ad88702",
   "metadata": {},
   "outputs": [],
   "source": []
  }
 ],
 "metadata": {
  "kernelspec": {
   "display_name": "Python 3 (ipykernel)",
   "language": "python",
   "name": "python3"
  },
  "language_info": {
   "codemirror_mode": {
    "name": "ipython",
    "version": 3
   },
   "file_extension": ".py",
   "mimetype": "text/x-python",
   "name": "python",
   "nbconvert_exporter": "python",
   "pygments_lexer": "ipython3",
   "version": "3.11.5"
  }
 },
 "nbformat": 4,
 "nbformat_minor": 5
}
