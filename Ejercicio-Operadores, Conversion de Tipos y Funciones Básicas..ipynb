{
 "cells": [
  {
   "cell_type": "markdown",
<<<<<<< HEAD
   "id": "3f003963",
=======
   "id": "fb177a51",
>>>>>>> de87e4eeb78cfaedf7cb693277c995bf92b42345
   "metadata": {},
   "source": [
    "# Suma"
   ]
  },
  {
   "cell_type": "code",
   "execution_count": 1,
<<<<<<< HEAD
   "id": "6cb595b4",
=======
   "id": "a7b7d3df",
>>>>>>> de87e4eeb78cfaedf7cb693277c995bf92b42345
   "metadata": {},
   "outputs": [
    {
     "name": "stdout",
     "output_type": "stream",
     "text": [
      "Selecciona la operación que quieras realizar ¨Suma, Resta, Multiplicación, división o potenciaSuma\n"
     ]
    },
    {
     "data": {
      "text/plain": [
       "'Suma'"
      ]
     },
     "execution_count": 1,
     "metadata": {},
     "output_type": "execute_result"
    }
   ],
   "source": [
    "input(\"Selecciona la operación que quieras realizar ¨Suma, Resta, Multiplicación, división o potencia\")"
   ]
  },
  {
   "cell_type": "code",
   "execution_count": 2,
<<<<<<< HEAD
   "id": "38efebf2",
=======
   "id": "70ad6321",
>>>>>>> de87e4eeb78cfaedf7cb693277c995bf92b42345
   "metadata": {},
   "outputs": [
    {
     "name": "stdout",
     "output_type": "stream",
     "text": [
      "Escribe 5 números para realizar la operación41 87 23 69 51\n"
     ]
    },
    {
     "data": {
      "text/plain": [
       "'41 87 23 69 51'"
      ]
     },
     "execution_count": 2,
     "metadata": {},
     "output_type": "execute_result"
    }
   ],
   "source": [
    "input(\"Escribe 5 números para realizar la operación\")"
   ]
  },
  {
   "cell_type": "code",
   "execution_count": 3,
<<<<<<< HEAD
   "id": "537c8a79",
=======
   "id": "33e6e2d6",
>>>>>>> de87e4eeb78cfaedf7cb693277c995bf92b42345
   "metadata": {},
   "outputs": [
    {
     "data": {
      "text/plain": [
       "list[41, 87, 23, 69, 51]"
      ]
     },
     "execution_count": 3,
     "metadata": {},
     "output_type": "execute_result"
    }
   ],
   "source": [
    "list[41,87,23,69,51]"
   ]
  },
  {
   "cell_type": "code",
   "execution_count": 10,
<<<<<<< HEAD
   "id": "ea760c34",
=======
   "id": "532da297",
>>>>>>> de87e4eeb78cfaedf7cb693277c995bf92b42345
   "metadata": {},
   "outputs": [
    {
     "name": "stdout",
     "output_type": "stream",
     "text": [
      "[41, 87, 23, 69, 51]\n",
      "<class 'list'>\n"
     ]
    }
   ],
   "source": [
    "list= [41,87,23,69,51]\n",
    "print(list)\n",
    "print(type(list))"
   ]
  },
  {
   "cell_type": "code",
   "execution_count": 15,
<<<<<<< HEAD
   "id": "471ed484",
=======
   "id": "4e6c9f8e",
>>>>>>> de87e4eeb78cfaedf7cb693277c995bf92b42345
   "metadata": {},
   "outputs": [
    {
     "ename": "SyntaxError",
     "evalue": "invalid syntax (3372942601.py, line 1)",
     "output_type": "error",
     "traceback": [
      "\u001b[1;36m  Cell \u001b[1;32mIn[15], line 1\u001b[1;36m\u001b[0m\n\u001b[1;33m    set{23,41,51,69,87}\u001b[0m\n\u001b[1;37m       ^\u001b[0m\n\u001b[1;31mSyntaxError\u001b[0m\u001b[1;31m:\u001b[0m invalid syntax\n"
     ]
    }
   ],
   "source": [
    "set{23,41,51,69,87}"
   ]
  },
  {
   "cell_type": "code",
   "execution_count": 47,
<<<<<<< HEAD
   "id": "9e56e6d6",
=======
   "id": "00f3c1e2",
>>>>>>> de87e4eeb78cfaedf7cb693277c995bf92b42345
   "metadata": {},
   "outputs": [
    {
     "data": {
      "text/plain": [
       "{23, 41, 51, 69, 87}"
      ]
     },
     "execution_count": 47,
     "metadata": {},
     "output_type": "execute_result"
    }
   ],
   "source": [
    "set"
   ]
  },
  {
   "cell_type": "code",
   "execution_count": 20,
<<<<<<< HEAD
   "id": "97756dae",
=======
   "id": "2f22f0cb",
>>>>>>> de87e4eeb78cfaedf7cb693277c995bf92b42345
   "metadata": {},
   "outputs": [
    {
     "name": "stdout",
     "output_type": "stream",
     "text": [
      "{51, 69, 87, 23, 41}\n",
      "<class 'set'>\n"
     ]
    }
   ],
   "source": [
    "set= {23,41,51,69,87}\n",
    "print(set)\n",
    "print(type(set))"
   ]
  },
  {
   "cell_type": "code",
   "execution_count": 31,
<<<<<<< HEAD
   "id": "5154d0c3",
=======
   "id": "3f27fa8e",
>>>>>>> de87e4eeb78cfaedf7cb693277c995bf92b42345
   "metadata": {},
   "outputs": [
    {
     "name": "stdout",
     "output_type": "stream",
     "text": [
      "{'a': 23, 'b': 41, 'c': 51, 'd': 69, 'e': 87}\n",
      "<class 'dict'>\n"
     ]
    }
   ],
   "source": [
    "dictionary = {\"a\":23,\"b\":41,\"c\":51,\"d\":69,\"e\":87}\n",
    "print(dictionary)\n",
    "print(type(dictionary))"
   ]
  },
  {
   "cell_type": "code",
   "execution_count": 34,
<<<<<<< HEAD
   "id": "fef8916b",
=======
   "id": "f00e76fb",
>>>>>>> de87e4eeb78cfaedf7cb693277c995bf92b42345
   "metadata": {},
   "outputs": [],
   "source": [
    "dictionary = {\"a\":23,\"b\":41,\"c\":51,\"d\":87,\"e\":69}"
   ]
  },
  {
   "cell_type": "code",
   "execution_count": 35,
<<<<<<< HEAD
   "id": "f04c6a0e",
=======
   "id": "edcfbf9a",
>>>>>>> de87e4eeb78cfaedf7cb693277c995bf92b42345
   "metadata": {},
   "outputs": [
    {
     "data": {
      "text/plain": [
       "2548"
      ]
     },
     "execution_count": 35,
     "metadata": {},
     "output_type": "execute_result"
    }
   ],
   "source": [
    "41+87+2369+51"
   ]
  },
  {
   "cell_type": "markdown",
<<<<<<< HEAD
   "id": "132efba3",
=======
   "id": "c2ebd103",
>>>>>>> de87e4eeb78cfaedf7cb693277c995bf92b42345
   "metadata": {},
   "source": [
    "# Resta"
   ]
  },
  {
   "cell_type": "code",
   "execution_count": 36,
<<<<<<< HEAD
   "id": "7dc190db",
=======
   "id": "c5f9b48f",
>>>>>>> de87e4eeb78cfaedf7cb693277c995bf92b42345
   "metadata": {},
   "outputs": [
    {
     "name": "stdout",
     "output_type": "stream",
     "text": [
      "Selecciona la operación que quieras realizar ¨Suma, Resta, Multiplicación, división o potenciaResta\n"
     ]
    },
    {
     "data": {
      "text/plain": [
       "'Resta'"
      ]
     },
     "execution_count": 36,
     "metadata": {},
     "output_type": "execute_result"
    }
   ],
   "source": [
    "input(\"Selecciona la operación que quieras realizar ¨Suma, Resta, Multiplicación, división o potencia\")"
   ]
  },
  {
   "cell_type": "code",
   "execution_count": 39,
<<<<<<< HEAD
   "id": "34ce2938",
=======
   "id": "5902bf9e",
>>>>>>> de87e4eeb78cfaedf7cb693277c995bf92b42345
   "metadata": {},
   "outputs": [
    {
     "name": "stdout",
     "output_type": "stream",
     "text": [
      "Escribe 5 números para realizar la operación41.2 51 63 44 10\n"
     ]
    },
    {
     "data": {
      "text/plain": [
       "'41.2 51 63 44 10'"
      ]
     },
     "execution_count": 39,
     "metadata": {},
     "output_type": "execute_result"
    }
   ],
   "source": [
    "input(\"Escribe 5 números para realizar la operación\")"
   ]
  },
  {
   "cell_type": "code",
   "execution_count": 45,
<<<<<<< HEAD
   "id": "bbadd175",
=======
   "id": "0b1f86dc",
>>>>>>> de87e4eeb78cfaedf7cb693277c995bf92b42345
   "metadata": {},
   "outputs": [
    {
     "ename": "TypeError",
     "evalue": "list indices must be integers or slices, not tuple",
     "output_type": "error",
     "traceback": [
      "\u001b[1;31m---------------------------------------------------------------------------\u001b[0m",
      "\u001b[1;31mTypeError\u001b[0m                                 Traceback (most recent call last)",
      "Cell \u001b[1;32mIn[45], line 1\u001b[0m\n\u001b[1;32m----> 1\u001b[0m list_resta[\u001b[38;5;241m41.2\u001b[39m, \u001b[38;5;241m51\u001b[39m, \u001b[38;5;241m63\u001b[39m, \u001b[38;5;241m44\u001b[39m, \u001b[38;5;241m10\u001b[39m]\n",
      "\u001b[1;31mTypeError\u001b[0m: list indices must be integers or slices, not tuple"
     ]
    }
   ],
   "source": [
    "list_resta[41.2, 51, 63, 44, 10]"
   ]
  },
  {
   "cell_type": "code",
   "execution_count": 44,
<<<<<<< HEAD
   "id": "743ce865",
=======
   "id": "b177682a",
>>>>>>> de87e4eeb78cfaedf7cb693277c995bf92b42345
   "metadata": {},
   "outputs": [
    {
     "name": "stdout",
     "output_type": "stream",
     "text": [
      "[41.2, 51, 63, 44, 10]\n",
      "<class 'list'>\n"
     ]
    }
   ],
   "source": [
    "list_resta= [41.2,51,63,44,10]\n",
    "print(list_resta)\n",
    "print(type(list_resta))"
   ]
  },
  {
   "cell_type": "code",
   "execution_count": 46,
<<<<<<< HEAD
   "id": "2179a868",
=======
   "id": "d5a512af",
>>>>>>> de87e4eeb78cfaedf7cb693277c995bf92b42345
   "metadata": {},
   "outputs": [
    {
     "data": {
      "text/plain": [
       "[41.2, 51, 63, 44, 10]"
      ]
     },
     "execution_count": 46,
     "metadata": {},
     "output_type": "execute_result"
    }
   ],
   "source": [
    "list_resta"
   ]
  },
  {
   "cell_type": "code",
   "execution_count": 49,
<<<<<<< HEAD
   "id": "eafecdb0",
=======
   "id": "73034d2f",
>>>>>>> de87e4eeb78cfaedf7cb693277c995bf92b42345
   "metadata": {},
   "outputs": [],
   "source": [
    "set_resta = {41.2,51,63,44,10}"
   ]
  },
  {
   "cell_type": "code",
   "execution_count": 50,
<<<<<<< HEAD
   "id": "a7a18bab",
=======
   "id": "2866e96a",
>>>>>>> de87e4eeb78cfaedf7cb693277c995bf92b42345
   "metadata": {},
   "outputs": [
    {
     "data": {
      "text/plain": [
       "{10, 41.2, 44, 51, 63}"
      ]
     },
     "execution_count": 50,
     "metadata": {},
     "output_type": "execute_result"
    }
   ],
   "source": [
    "set_resta"
   ]
  },
  {
   "cell_type": "code",
   "execution_count": 51,
<<<<<<< HEAD
   "id": "afd89e8d",
=======
   "id": "71f3bad2",
>>>>>>> de87e4eeb78cfaedf7cb693277c995bf92b42345
   "metadata": {},
   "outputs": [
    {
     "name": "stdout",
     "output_type": "stream",
     "text": [
      "{51, 41.2, 10, 44, 63}\n",
      "<class 'set'>\n"
     ]
    }
   ],
   "source": [
    "set_resta = {41.2,51,63,44,10}\n",
    "print(set_resta)\n",
    "print(type(set_resta))"
   ]
  },
  {
   "cell_type": "code",
   "execution_count": 52,
<<<<<<< HEAD
   "id": "65225032",
=======
   "id": "5b8c8ed0",
>>>>>>> de87e4eeb78cfaedf7cb693277c995bf92b42345
   "metadata": {},
   "outputs": [],
   "source": [
    "dictionary_resta = {\"a\":41.2,\"b\":51,\"c\":63,\"d\":44,\"e\":10}"
   ]
  },
  {
   "cell_type": "code",
   "execution_count": 53,
<<<<<<< HEAD
   "id": "a76140a7",
=======
   "id": "6d395390",
>>>>>>> de87e4eeb78cfaedf7cb693277c995bf92b42345
   "metadata": {},
   "outputs": [
    {
     "data": {
      "text/plain": [
       "{'a': 41.2, 'b': 51, 'c': 63, 'd': 44, 'e': 10}"
      ]
     },
     "execution_count": 53,
     "metadata": {},
     "output_type": "execute_result"
    }
   ],
   "source": [
    "dictionary_resta"
   ]
  },
  {
   "cell_type": "code",
   "execution_count": 54,
<<<<<<< HEAD
   "id": "b4435de9",
=======
   "id": "94021224",
>>>>>>> de87e4eeb78cfaedf7cb693277c995bf92b42345
   "metadata": {},
   "outputs": [
    {
     "name": "stdout",
     "output_type": "stream",
     "text": [
      "{'a': 41.2, 'b': 51, 'c': 63, 'd': 44, 'e': 10}\n",
      "<class 'dict'>\n"
     ]
    }
   ],
   "source": [
    "dictionary_resta = {\"a\":41.2,\"b\":51,\"c\":63,\"d\":44,\"e\":10}\n",
    "print(dictionary_resta)\n",
    "print(type(dictionary_resta))"
   ]
  },
  {
   "cell_type": "code",
   "execution_count": 55,
<<<<<<< HEAD
   "id": "2402aa3e",
=======
   "id": "598789b3",
>>>>>>> de87e4eeb78cfaedf7cb693277c995bf92b42345
   "metadata": {},
   "outputs": [
    {
     "data": {
      "text/plain": [
       "-126.8"
      ]
     },
     "execution_count": 55,
     "metadata": {},
     "output_type": "execute_result"
    }
   ],
   "source": [
    "41.2-51-63-44-10"
   ]
  },
  {
   "cell_type": "markdown",
<<<<<<< HEAD
   "id": "521a25de",
=======
   "id": "c750abb4",
>>>>>>> de87e4eeb78cfaedf7cb693277c995bf92b42345
   "metadata": {},
   "source": [
    "# Multiplicación"
   ]
  },
  {
   "cell_type": "code",
   "execution_count": 56,
<<<<<<< HEAD
   "id": "d1446960",
=======
   "id": "6673a7f8",
>>>>>>> de87e4eeb78cfaedf7cb693277c995bf92b42345
   "metadata": {},
   "outputs": [
    {
     "name": "stdout",
     "output_type": "stream",
     "text": [
      "Selecciona la operación que quieras realizar ¨Suma, Resta, Multiplicación, división o potenciaMultiplicación\n"
     ]
    },
    {
     "data": {
      "text/plain": [
       "'Multiplicación'"
      ]
     },
     "execution_count": 56,
     "metadata": {},
     "output_type": "execute_result"
    }
   ],
   "source": [
    "input(\"Selecciona la operación que quieras realizar ¨Suma, Resta, Multiplicación, división o potencia\")"
   ]
  },
  {
   "cell_type": "code",
   "execution_count": 57,
<<<<<<< HEAD
   "id": "bd850f42",
=======
   "id": "ce47e578",
>>>>>>> de87e4eeb78cfaedf7cb693277c995bf92b42345
   "metadata": {},
   "outputs": [
    {
     "name": "stdout",
     "output_type": "stream",
     "text": [
      "Escribe 5 números para realizar la operación52 48 96 300 42\n"
     ]
    },
    {
     "data": {
      "text/plain": [
       "'52 48 96 300 42'"
      ]
     },
     "execution_count": 57,
     "metadata": {},
     "output_type": "execute_result"
    }
   ],
   "source": [
    "input(\"Escribe 5 números para realizar la operación\")"
   ]
  },
  {
   "cell_type": "code",
   "execution_count": 60,
<<<<<<< HEAD
   "id": "2aea0053",
=======
   "id": "992c91c9",
>>>>>>> de87e4eeb78cfaedf7cb693277c995bf92b42345
   "metadata": {},
   "outputs": [
    {
     "ename": "NameError",
     "evalue": "name 'list_multi' is not defined",
     "output_type": "error",
     "traceback": [
      "\u001b[1;31m---------------------------------------------------------------------------\u001b[0m",
      "\u001b[1;31mNameError\u001b[0m                                 Traceback (most recent call last)",
      "Cell \u001b[1;32mIn[60], line 1\u001b[0m\n\u001b[1;32m----> 1\u001b[0m list_multi[\u001b[38;5;241m52\u001b[39m,\u001b[38;5;241m48\u001b[39m,\u001b[38;5;241m96\u001b[39m,\u001b[38;5;241m300\u001b[39m,\u001b[38;5;241m42\u001b[39m]\n",
      "\u001b[1;31mNameError\u001b[0m: name 'list_multi' is not defined"
     ]
    }
   ],
   "source": [
    "list_multi[52,48,96,300,42]"
   ]
  },
  {
   "cell_type": "code",
   "execution_count": 62,
<<<<<<< HEAD
   "id": "267a6b13",
=======
   "id": "f7f4475e",
>>>>>>> de87e4eeb78cfaedf7cb693277c995bf92b42345
   "metadata": {},
   "outputs": [
    {
     "name": "stdout",
     "output_type": "stream",
     "text": [
      "[52, 48, 96, 300, 42]\n",
      "<class 'list'>\n"
     ]
    }
   ],
   "source": [
    "list_multi = [52,48,96,300,42]\n",
    "print(list_multi)\n",
    "print(type(list_multi))"
   ]
  },
  {
   "cell_type": "code",
   "execution_count": 63,
<<<<<<< HEAD
   "id": "fbfec3f7",
=======
   "id": "5d37f08c",
>>>>>>> de87e4eeb78cfaedf7cb693277c995bf92b42345
   "metadata": {},
   "outputs": [
    {
     "data": {
      "text/plain": [
       "[52, 48, 96, 300, 42]"
      ]
     },
     "execution_count": 63,
     "metadata": {},
     "output_type": "execute_result"
    }
   ],
   "source": [
    "list_multi"
   ]
  },
  {
   "cell_type": "code",
   "execution_count": 65,
<<<<<<< HEAD
   "id": "90fd1845",
=======
   "id": "0e6baf86",
>>>>>>> de87e4eeb78cfaedf7cb693277c995bf92b42345
   "metadata": {},
   "outputs": [
    {
     "name": "stdout",
     "output_type": "stream",
     "text": [
      "{96, 48, 52, 42, 300}\n",
      "<class 'set'>\n"
     ]
    }
   ],
   "source": [
    "set_multi = {52,48,96,300,42}\n",
    "print(set_multi)\n",
    "print(type(set_multi))"
   ]
  },
  {
   "cell_type": "code",
   "execution_count": 66,
<<<<<<< HEAD
   "id": "1971903d",
=======
   "id": "d23dddf1",
>>>>>>> de87e4eeb78cfaedf7cb693277c995bf92b42345
   "metadata": {},
   "outputs": [
    {
     "data": {
      "text/plain": [
       "{42, 48, 52, 96, 300}"
      ]
     },
     "execution_count": 66,
     "metadata": {},
     "output_type": "execute_result"
    }
   ],
   "source": [
    "set_multi"
   ]
  },
  {
   "cell_type": "code",
   "execution_count": 67,
<<<<<<< HEAD
   "id": "822c1454",
=======
   "id": "d2d724a6",
>>>>>>> de87e4eeb78cfaedf7cb693277c995bf92b42345
   "metadata": {},
   "outputs": [
    {
     "name": "stdout",
     "output_type": "stream",
     "text": [
      "{'a': 52, 'b': 48, 'c': 96, 'd': 300, 'e': 42}\n",
      "<class 'dict'>\n"
     ]
    }
   ],
   "source": [
    "dictionary_multi = {\"a\":52,\"b\":48,\"c\":96,\"d\":300,\"e\":42}\n",
    "print(dictionary_multi)\n",
    "print(type(dictionary_multi))"
   ]
  },
  {
   "cell_type": "code",
   "execution_count": 68,
<<<<<<< HEAD
   "id": "c036cbb7",
=======
   "id": "8384e326",
>>>>>>> de87e4eeb78cfaedf7cb693277c995bf92b42345
   "metadata": {},
   "outputs": [
    {
     "data": {
      "text/plain": [
       "{'a': 52, 'b': 48, 'c': 96, 'd': 300, 'e': 42}"
      ]
     },
     "execution_count": 68,
     "metadata": {},
     "output_type": "execute_result"
    }
   ],
   "source": [
    "dictionary_multi"
   ]
  },
  {
   "cell_type": "code",
   "execution_count": 69,
<<<<<<< HEAD
   "id": "f25fa0b1",
=======
   "id": "1db04697",
>>>>>>> de87e4eeb78cfaedf7cb693277c995bf92b42345
   "metadata": {},
   "outputs": [
    {
     "data": {
      "text/plain": [
       "3019161600"
      ]
     },
     "execution_count": 69,
     "metadata": {},
     "output_type": "execute_result"
    }
   ],
   "source": [
    "52*48*96*300*42"
   ]
  },
  {
   "cell_type": "markdown",
<<<<<<< HEAD
   "id": "e2623693",
=======
   "id": "34082c8a",
>>>>>>> de87e4eeb78cfaedf7cb693277c995bf92b42345
   "metadata": {},
   "source": [
    "# División"
   ]
  },
  {
   "cell_type": "code",
   "execution_count": 70,
<<<<<<< HEAD
   "id": "79658dd7",
=======
   "id": "1facfd4d",
>>>>>>> de87e4eeb78cfaedf7cb693277c995bf92b42345
   "metadata": {},
   "outputs": [
    {
     "name": "stdout",
     "output_type": "stream",
     "text": [
      "Selecciona la operación que quieras realizar ¨Suma, Resta, Multiplicación, división o potenciaDivisión\n"
     ]
    },
    {
     "data": {
      "text/plain": [
       "'División'"
      ]
     },
     "execution_count": 70,
     "metadata": {},
     "output_type": "execute_result"
    }
   ],
   "source": [
    "input(\"Selecciona la operación que quieras realizar ¨Suma, Resta, Multiplicación, división o potencia\")"
   ]
  },
  {
   "cell_type": "code",
   "execution_count": 71,
<<<<<<< HEAD
   "id": "06bde641",
=======
   "id": "ac131f94",
>>>>>>> de87e4eeb78cfaedf7cb693277c995bf92b42345
   "metadata": {},
   "outputs": [
    {
     "name": "stdout",
     "output_type": "stream",
     "text": [
      "Escribe 5 números para realizar la operación14 85 32 10 21\n"
     ]
    },
    {
     "data": {
      "text/plain": [
       "'14 85 32 10 21'"
      ]
     },
     "execution_count": 71,
     "metadata": {},
     "output_type": "execute_result"
    }
   ],
   "source": [
    "input(\"Escribe 5 números para realizar la operación\")"
   ]
  },
  {
   "cell_type": "code",
   "execution_count": 72,
<<<<<<< HEAD
   "id": "bfca5468",
=======
   "id": "6545ad1c",
>>>>>>> de87e4eeb78cfaedf7cb693277c995bf92b42345
   "metadata": {},
   "outputs": [
    {
     "ename": "TypeError",
     "evalue": "list indices must be integers or slices, not tuple",
     "output_type": "error",
     "traceback": [
      "\u001b[1;31m---------------------------------------------------------------------------\u001b[0m",
      "\u001b[1;31mTypeError\u001b[0m                                 Traceback (most recent call last)",
      "Cell \u001b[1;32mIn[72], line 1\u001b[0m\n\u001b[1;32m----> 1\u001b[0m \u001b[38;5;28mlist\u001b[39m[\u001b[38;5;241m14\u001b[39m,\u001b[38;5;241m85\u001b[39m,\u001b[38;5;241m32\u001b[39m,\u001b[38;5;241m10\u001b[39m,\u001b[38;5;241m21\u001b[39m]\n",
      "\u001b[1;31mTypeError\u001b[0m: list indices must be integers or slices, not tuple"
     ]
    }
   ],
   "source": [
    "list[14,85,32,10,21]"
   ]
  },
  {
   "cell_type": "code",
   "execution_count": 73,
<<<<<<< HEAD
   "id": "c28bda50",
=======
   "id": "1a5bc162",
>>>>>>> de87e4eeb78cfaedf7cb693277c995bf92b42345
   "metadata": {},
   "outputs": [
    {
     "name": "stdout",
     "output_type": "stream",
     "text": [
      "[14, 85, 32, 10, 21]\n",
      "<class 'list'>\n"
     ]
    }
   ],
   "source": [
    "list_div = [14,85,32,10,21]\n",
    "print(list_div)\n",
    "print(type(list_div))"
   ]
  },
  {
   "cell_type": "code",
   "execution_count": 74,
<<<<<<< HEAD
   "id": "dd5076e7",
=======
   "id": "a60c51f8",
>>>>>>> de87e4eeb78cfaedf7cb693277c995bf92b42345
   "metadata": {},
   "outputs": [
    {
     "data": {
      "text/plain": [
       "[14, 85, 32, 10, 21]"
      ]
     },
     "execution_count": 74,
     "metadata": {},
     "output_type": "execute_result"
    }
   ],
   "source": [
    "list_div"
   ]
  },
  {
   "cell_type": "code",
   "execution_count": 76,
<<<<<<< HEAD
   "id": "356932c0",
=======
   "id": "5649b238",
>>>>>>> de87e4eeb78cfaedf7cb693277c995bf92b42345
   "metadata": {},
   "outputs": [
    {
     "name": "stdout",
     "output_type": "stream",
     "text": [
      "{32, 85, 21, 10, 14}\n",
      "<class 'set'>\n"
     ]
    }
   ],
   "source": [
    "set_div = {14,85,32,10,21}\n",
    "print(set_div)\n",
    "print(type(set_div))"
   ]
  },
  {
   "cell_type": "code",
   "execution_count": 77,
<<<<<<< HEAD
   "id": "33257c5d",
=======
   "id": "de45931e",
>>>>>>> de87e4eeb78cfaedf7cb693277c995bf92b42345
   "metadata": {},
   "outputs": [
    {
     "data": {
      "text/plain": [
       "{10, 14, 21, 32, 85}"
      ]
     },
     "execution_count": 77,
     "metadata": {},
     "output_type": "execute_result"
    }
   ],
   "source": [
    "set_div"
   ]
  },
  {
   "cell_type": "code",
   "execution_count": 78,
<<<<<<< HEAD
   "id": "9d156fe9",
=======
   "id": "d997300f",
>>>>>>> de87e4eeb78cfaedf7cb693277c995bf92b42345
   "metadata": {},
   "outputs": [
    {
     "name": "stdout",
     "output_type": "stream",
     "text": [
      "{'a': 10, 'b': 14, 'c': 21, 'd': 10, 'e': 14}\n",
      "<class 'dict'>\n"
     ]
    }
   ],
   "source": [
    "dictionary_div = {\"a\":10,\"b\":14,\"c\":21,\"d\":10,\"e\":14}\n",
    "print(dictionary_div)\n",
    "print(type(dictionary_div))"
   ]
  },
  {
   "cell_type": "code",
   "execution_count": 79,
<<<<<<< HEAD
   "id": "be63d404",
=======
   "id": "ce04b87f",
>>>>>>> de87e4eeb78cfaedf7cb693277c995bf92b42345
   "metadata": {},
   "outputs": [
    {
     "data": {
      "text/plain": [
       "{'a': 10, 'b': 14, 'c': 21, 'd': 10, 'e': 14}"
      ]
     },
     "execution_count": 79,
     "metadata": {},
     "output_type": "execute_result"
    }
   ],
   "source": [
    "dictionary_div"
   ]
  },
  {
   "cell_type": "code",
   "execution_count": 81,
<<<<<<< HEAD
   "id": "0ba9a5aa",
=======
   "id": "25a541eb",
>>>>>>> de87e4eeb78cfaedf7cb693277c995bf92b42345
   "metadata": {},
   "outputs": [
    {
     "data": {
      "text/plain": [
       "0"
      ]
     },
     "execution_count": 81,
     "metadata": {},
     "output_type": "execute_result"
    }
   ],
   "source": [
    "10//14 "
   ]
  },
  {
   "cell_type": "code",
   "execution_count": 82,
<<<<<<< HEAD
   "id": "1cf4674f",
=======
   "id": "7511141a",
>>>>>>> de87e4eeb78cfaedf7cb693277c995bf92b42345
   "metadata": {},
   "outputs": [
    {
     "data": {
      "text/plain": [
       "0"
      ]
     },
     "execution_count": 82,
     "metadata": {},
     "output_type": "execute_result"
    }
   ],
   "source": [
    "14//21"
   ]
  },
  {
   "cell_type": "code",
   "execution_count": 83,
<<<<<<< HEAD
   "id": "bf50a2b4",
=======
   "id": "6deb765a",
>>>>>>> de87e4eeb78cfaedf7cb693277c995bf92b42345
   "metadata": {},
   "outputs": [
    {
     "data": {
      "text/plain": [
       "2"
      ]
     },
     "execution_count": 83,
     "metadata": {},
     "output_type": "execute_result"
    }
   ],
   "source": [
    "21//10"
   ]
  },
  {
   "cell_type": "code",
   "execution_count": 84,
<<<<<<< HEAD
   "id": "0da4296c",
=======
   "id": "62ff460b",
>>>>>>> de87e4eeb78cfaedf7cb693277c995bf92b42345
   "metadata": {},
   "outputs": [
    {
     "data": {
      "text/plain": [
       "0"
      ]
     },
     "execution_count": 84,
     "metadata": {},
     "output_type": "execute_result"
    }
   ],
   "source": [
    "10//14"
   ]
  },
  {
   "cell_type": "markdown",
<<<<<<< HEAD
   "id": "bbd5b1f6",
=======
   "id": "64225497",
>>>>>>> de87e4eeb78cfaedf7cb693277c995bf92b42345
   "metadata": {},
   "source": [
    "# Potencia"
   ]
  },
  {
   "cell_type": "code",
   "execution_count": 85,
<<<<<<< HEAD
   "id": "878d1c59",
=======
   "id": "25eb8b3d",
>>>>>>> de87e4eeb78cfaedf7cb693277c995bf92b42345
   "metadata": {},
   "outputs": [
    {
     "name": "stdout",
     "output_type": "stream",
     "text": [
      "Selecciona la operación que quieras realizar ¨Suma, Resta, Multiplicación, división o potenciaPotencia\n"
     ]
    },
    {
     "data": {
      "text/plain": [
       "'Potencia'"
      ]
     },
     "execution_count": 85,
     "metadata": {},
     "output_type": "execute_result"
    }
   ],
   "source": [
    "input(\"Selecciona la operación que quieras realizar ¨Suma, Resta, Multiplicación, división o potencia\")"
   ]
  },
  {
   "cell_type": "code",
   "execution_count": 93,
<<<<<<< HEAD
   "id": "9a645b44",
=======
   "id": "dbe1bfca",
>>>>>>> de87e4eeb78cfaedf7cb693277c995bf92b42345
   "metadata": {},
   "outputs": [
    {
     "name": "stdout",
     "output_type": "stream",
     "text": [
      "Escribe 5 números para realizar la operación10 24 21 11 32\n"
     ]
    },
    {
     "data": {
      "text/plain": [
       "'10 24 21 11 32'"
      ]
     },
     "execution_count": 93,
     "metadata": {},
     "output_type": "execute_result"
    }
   ],
   "source": [
    "input(\"Escribe 5 números para realizar la operación\")"
   ]
  },
  {
   "cell_type": "code",
   "execution_count": 94,
<<<<<<< HEAD
   "id": "20365811",
=======
   "id": "4e357400",
>>>>>>> de87e4eeb78cfaedf7cb693277c995bf92b42345
   "metadata": {},
   "outputs": [
    {
     "name": "stdout",
     "output_type": "stream",
     "text": [
      "[10, 24, 21, 11, 32]\n",
      "<class 'list'>\n"
     ]
    }
   ],
   "source": [
    "list_pot = [10,24,21,11,32]\n",
    "print(list_pot)\n",
    "print(type(list_pot))"
   ]
  },
  {
   "cell_type": "code",
   "execution_count": 95,
<<<<<<< HEAD
   "id": "ae2fb89c",
=======
   "id": "8f70ff70",
>>>>>>> de87e4eeb78cfaedf7cb693277c995bf92b42345
   "metadata": {},
   "outputs": [
    {
     "data": {
      "text/plain": [
       "[10, 24, 21, 11, 32]"
      ]
     },
     "execution_count": 95,
     "metadata": {},
     "output_type": "execute_result"
    }
   ],
   "source": [
    "list_pot"
   ]
  },
  {
   "cell_type": "code",
   "execution_count": 96,
<<<<<<< HEAD
   "id": "1bc60f76",
=======
   "id": "ece61593",
>>>>>>> de87e4eeb78cfaedf7cb693277c995bf92b42345
   "metadata": {},
   "outputs": [
    {
     "name": "stdout",
     "output_type": "stream",
     "text": [
      "{32, 21, 24, 10, 11}\n",
      "<class 'set'>\n"
     ]
    }
   ],
   "source": [
    "set_pot = {10,24,21,11,32}\n",
    "print(set_pot)\n",
    "print(type(set_pot))"
   ]
  },
  {
   "cell_type": "code",
   "execution_count": 97,
<<<<<<< HEAD
   "id": "a7e561b0",
=======
   "id": "5b25e9b8",
>>>>>>> de87e4eeb78cfaedf7cb693277c995bf92b42345
   "metadata": {},
   "outputs": [
    {
     "data": {
      "text/plain": [
       "{10, 11, 21, 24, 32}"
      ]
     },
     "execution_count": 97,
     "metadata": {},
     "output_type": "execute_result"
    }
   ],
   "source": [
    "set_pot"
   ]
  },
  {
   "cell_type": "code",
   "execution_count": 98,
<<<<<<< HEAD
   "id": "3a2771ef",
=======
   "id": "10fd2577",
>>>>>>> de87e4eeb78cfaedf7cb693277c995bf92b42345
   "metadata": {},
   "outputs": [
    {
     "name": "stdout",
     "output_type": "stream",
     "text": [
      "{'a': 10, 'b': 24, 'c': 21, 'd': 11, 'e': 32}\n",
      "<class 'dict'>\n"
     ]
    }
   ],
   "source": [
    "dictionary_pot = {\"a\":10,\"b\":24,\"c\":21,\"d\":11,\"e\":32}\n",
    "print(dictionary_pot)\n",
    "print(type(dictionary_pot))"
   ]
  },
  {
   "cell_type": "code",
   "execution_count": 99,
<<<<<<< HEAD
   "id": "7062eddc",
=======
   "id": "9532a642",
>>>>>>> de87e4eeb78cfaedf7cb693277c995bf92b42345
   "metadata": {},
   "outputs": [
    {
     "data": {
      "text/plain": [
       "{'a': 10, 'b': 24, 'c': 21, 'd': 11, 'e': 32}"
      ]
     },
     "execution_count": 99,
     "metadata": {},
     "output_type": "execute_result"
    }
   ],
   "source": [
    "dictionary_pot"
   ]
  },
  {
   "cell_type": "code",
   "execution_count": 102,
<<<<<<< HEAD
   "id": "e343bded",
=======
   "id": "d6b623ac",
>>>>>>> de87e4eeb78cfaedf7cb693277c995bf92b42345
   "metadata": {},
   "outputs": [
    {
     "data": {
      "text/plain": [
       "100"
      ]
     },
     "execution_count": 102,
     "metadata": {},
     "output_type": "execute_result"
    }
   ],
   "source": [
    "10**2"
   ]
  },
  {
   "cell_type": "code",
   "execution_count": 103,
<<<<<<< HEAD
   "id": "44d90420",
=======
   "id": "084f24b1",
>>>>>>> de87e4eeb78cfaedf7cb693277c995bf92b42345
   "metadata": {},
   "outputs": [
    {
     "data": {
      "text/plain": [
       "576"
      ]
     },
     "execution_count": 103,
     "metadata": {},
     "output_type": "execute_result"
    }
   ],
   "source": [
    "24**2"
   ]
  },
  {
   "cell_type": "code",
   "execution_count": 104,
<<<<<<< HEAD
   "id": "45c8e857",
=======
   "id": "30fdfe20",
>>>>>>> de87e4eeb78cfaedf7cb693277c995bf92b42345
   "metadata": {},
   "outputs": [
    {
     "data": {
      "text/plain": [
       "441"
      ]
     },
     "execution_count": 104,
     "metadata": {},
     "output_type": "execute_result"
    }
   ],
   "source": [
    "21**2"
   ]
  },
  {
   "cell_type": "code",
   "execution_count": 105,
<<<<<<< HEAD
   "id": "445be1d3",
=======
   "id": "ce5c0fc4",
>>>>>>> de87e4eeb78cfaedf7cb693277c995bf92b42345
   "metadata": {},
   "outputs": [
    {
     "data": {
      "text/plain": [
       "121"
      ]
     },
     "execution_count": 105,
     "metadata": {},
     "output_type": "execute_result"
    }
   ],
   "source": [
    "11**2"
   ]
  },
  {
   "cell_type": "code",
   "execution_count": 106,
<<<<<<< HEAD
   "id": "572f7c71",
=======
   "id": "73e4d64d",
>>>>>>> de87e4eeb78cfaedf7cb693277c995bf92b42345
   "metadata": {},
   "outputs": [
    {
     "data": {
      "text/plain": [
       "1024"
      ]
     },
     "execution_count": 106,
     "metadata": {},
     "output_type": "execute_result"
    }
   ],
   "source": [
    "32**2"
   ]
  },
  {
   "cell_type": "code",
   "execution_count": null,
<<<<<<< HEAD
   "id": "32904e28",
=======
   "id": "e882a9ca",
>>>>>>> de87e4eeb78cfaedf7cb693277c995bf92b42345
   "metadata": {},
   "outputs": [],
   "source": []
  }
 ],
 "metadata": {
  "kernelspec": {
   "display_name": "Python 3 (ipykernel)",
   "language": "python",
   "name": "python3"
  },
  "language_info": {
   "codemirror_mode": {
    "name": "ipython",
    "version": 3
   },
   "file_extension": ".py",
   "mimetype": "text/x-python",
   "name": "python",
   "nbconvert_exporter": "python",
   "pygments_lexer": "ipython3",
   "version": "3.11.5"
  }
 },
 "nbformat": 4,
 "nbformat_minor": 5
}
