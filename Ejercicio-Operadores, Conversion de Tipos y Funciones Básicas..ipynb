{
 "cells": [
  {
   "cell_type": "markdown",
   "id": "3f003963",
   "metadata": {},
   "source": [
    "# Suma"
   ]
  },
  {
   "cell_type": "code",
   "execution_count": 1,
   "id": "6cb595b4",
   "metadata": {},
   "outputs": [
    {
     "name": "stdout",
     "output_type": "stream",
     "text": [
      "Selecciona la operación que quieras realizar ¨Suma, Resta, Multiplicación, división o potenciaSuma\n"
     ]
    },
    {
     "data": {
      "text/plain": [
       "'Suma'"
      ]
     },
     "execution_count": 1,
     "metadata": {},
     "output_type": "execute_result"
    }
   ],
   "source": [
    "input(\"Selecciona la operación que quieras realizar ¨Suma, Resta, Multiplicación, división o potencia\")"
   ]
  },
  {
   "cell_type": "code",
   "execution_count": 2,
   "id": "38efebf2",
   "metadata": {},
   "outputs": [
    {
     "name": "stdout",
     "output_type": "stream",
     "text": [
      "Escribe 5 números para realizar la operación41 87 23 69 51\n"
     ]
    },
    {
     "data": {
      "text/plain": [
       "'41 87 23 69 51'"
      ]
     },
     "execution_count": 2,
     "metadata": {},
     "output_type": "execute_result"
    }
   ],
   "source": [
    "input(\"Escribe 5 números para realizar la operación\")"
   ]
  },
  {
   "cell_type": "code",
   "execution_count": 3,
   "id": "537c8a79",
   "metadata": {},
   "outputs": [
    {
     "data": {
      "text/plain": [
       "list[41, 87, 23, 69, 51]"
      ]
     },
     "execution_count": 3,
     "metadata": {},
     "output_type": "execute_result"
    }
   ],
   "source": [
    "list[41,87,23,69,51]"
   ]
  },
  {
   "cell_type": "code",
   "execution_count": 10,
   "id": "ea760c34",
   "metadata": {},
   "outputs": [
    {
     "name": "stdout",
     "output_type": "stream",
     "text": [
      "[41, 87, 23, 69, 51]\n",
      "<class 'list'>\n"
     ]
    }
   ],
   "source": [
    "list= [41,87,23,69,51]\n",
    "print(list)\n",
    "print(type(list))"
   ]
  },
  {
   "cell_type": "code",
   "execution_count": 15,
   "id": "471ed484",
   "metadata": {},
   "outputs": [
    {
     "ename": "SyntaxError",
     "evalue": "invalid syntax (3372942601.py, line 1)",
     "output_type": "error",
     "traceback": [
      "\u001b[1;36m  Cell \u001b[1;32mIn[15], line 1\u001b[1;36m\u001b[0m\n\u001b[1;33m    set{23,41,51,69,87}\u001b[0m\n\u001b[1;37m       ^\u001b[0m\n\u001b[1;31mSyntaxError\u001b[0m\u001b[1;31m:\u001b[0m invalid syntax\n"
     ]
    }
   ],
   "source": [
    "set{23,41,51,69,87}"
   ]
  },
  {
   "cell_type": "code",
   "execution_count": 47,
   "id": "9e56e6d6",
   "metadata": {},
   "outputs": [
    {
     "data": {
      "text/plain": [
       "{23, 41, 51, 69, 87}"
      ]
     },
     "execution_count": 47,
     "metadata": {},
     "output_type": "execute_result"
    }
   ],
   "source": [
    "set"
   ]
  },
  {
   "cell_type": "code",
   "execution_count": 20,
   "id": "97756dae",
   "metadata": {},
   "outputs": [
    {
     "name": "stdout",
     "output_type": "stream",
     "text": [
      "{51, 69, 87, 23, 41}\n",
      "<class 'set'>\n"
     ]
    }
   ],
   "source": [
    "set= {23,41,51,69,87}\n",
    "print(set)\n",
    "print(type(set))"
   ]
  },
  {
   "cell_type": "code",
   "execution_count": 31,
   "id": "5154d0c3",
   "metadata": {},
   "outputs": [
    {
     "name": "stdout",
     "output_type": "stream",
     "text": [
      "{'a': 23, 'b': 41, 'c': 51, 'd': 69, 'e': 87}\n",
      "<class 'dict'>\n"
     ]
    }
   ],
   "source": [
    "dictionary = {\"a\":23,\"b\":41,\"c\":51,\"d\":69,\"e\":87}\n",
    "print(dictionary)\n",
    "print(type(dictionary))"
   ]
  },
  {
   "cell_type": "code",
   "execution_count": 34,
   "id": "fef8916b",
   "metadata": {},
   "outputs": [],
   "source": [
    "dictionary = {\"a\":23,\"b\":41,\"c\":51,\"d\":87,\"e\":69}"
   ]
  },
  {
   "cell_type": "code",
   "execution_count": 35,
   "id": "f04c6a0e",
   "metadata": {},
   "outputs": [
    {
     "data": {
      "text/plain": [
       "2548"
      ]
     },
     "execution_count": 35,
     "metadata": {},
     "output_type": "execute_result"
    }
   ],
   "source": [
    "41+87+2369+51"
   ]
  },
  {
   "cell_type": "markdown",
   "id": "132efba3",
   "metadata": {},
   "source": [
    "# Resta"
   ]
  },
  {
   "cell_type": "code",
   "execution_count": 36,
   "id": "7dc190db",
   "metadata": {},
   "outputs": [
    {
     "name": "stdout",
     "output_type": "stream",
     "text": [
      "Selecciona la operación que quieras realizar ¨Suma, Resta, Multiplicación, división o potenciaResta\n"
     ]
    },
    {
     "data": {
      "text/plain": [
       "'Resta'"
      ]
     },
     "execution_count": 36,
     "metadata": {},
     "output_type": "execute_result"
    }
   ],
   "source": [
    "input(\"Selecciona la operación que quieras realizar ¨Suma, Resta, Multiplicación, división o potencia\")"
   ]
  },
  {
   "cell_type": "code",
   "execution_count": 39,
   "id": "34ce2938",
   "metadata": {},
   "outputs": [
    {
     "name": "stdout",
     "output_type": "stream",
     "text": [
      "Escribe 5 números para realizar la operación41.2 51 63 44 10\n"
     ]
    },
    {
     "data": {
      "text/plain": [
       "'41.2 51 63 44 10'"
      ]
     },
     "execution_count": 39,
     "metadata": {},
     "output_type": "execute_result"
    }
   ],
   "source": [
    "input(\"Escribe 5 números para realizar la operación\")"
   ]
  },
  {
   "cell_type": "code",
   "execution_count": 45,
   "id": "bbadd175",
   "metadata": {},
   "outputs": [
    {
     "ename": "TypeError",
     "evalue": "list indices must be integers or slices, not tuple",
     "output_type": "error",
     "traceback": [
      "\u001b[1;31m---------------------------------------------------------------------------\u001b[0m",
      "\u001b[1;31mTypeError\u001b[0m                                 Traceback (most recent call last)",
      "Cell \u001b[1;32mIn[45], line 1\u001b[0m\n\u001b[1;32m----> 1\u001b[0m list_resta[\u001b[38;5;241m41.2\u001b[39m, \u001b[38;5;241m51\u001b[39m, \u001b[38;5;241m63\u001b[39m, \u001b[38;5;241m44\u001b[39m, \u001b[38;5;241m10\u001b[39m]\n",
      "\u001b[1;31mTypeError\u001b[0m: list indices must be integers or slices, not tuple"
     ]
    }
   ],
   "source": [
    "list_resta[41.2, 51, 63, 44, 10]"
   ]
  },
  {
   "cell_type": "code",
   "execution_count": 44,
   "id": "743ce865",
   "metadata": {},
   "outputs": [
    {
     "name": "stdout",
     "output_type": "stream",
     "text": [
      "[41.2, 51, 63, 44, 10]\n",
      "<class 'list'>\n"
     ]
    }
   ],
   "source": [
    "list_resta= [41.2,51,63,44,10]\n",
    "print(list_resta)\n",
    "print(type(list_resta))"
   ]
  },
  {
   "cell_type": "code",
   "execution_count": 46,
   "id": "2179a868",
   "metadata": {},
   "outputs": [
    {
     "data": {
      "text/plain": [
       "[41.2, 51, 63, 44, 10]"
      ]
     },
     "execution_count": 46,
     "metadata": {},
     "output_type": "execute_result"
    }
   ],
   "source": [
    "list_resta"
   ]
  },
  {
   "cell_type": "code",
   "execution_count": 49,
   "id": "eafecdb0",
   "metadata": {},
   "outputs": [],
   "source": [
    "set_resta = {41.2,51,63,44,10}"
   ]
  },
  {
   "cell_type": "code",
   "execution_count": 50,
   "id": "a7a18bab",
   "metadata": {},
   "outputs": [
    {
     "data": {
      "text/plain": [
       "{10, 41.2, 44, 51, 63}"
      ]
     },
     "execution_count": 50,
     "metadata": {},
     "output_type": "execute_result"
    }
   ],
   "source": [
    "set_resta"
   ]
  },
  {
   "cell_type": "code",
   "execution_count": 51,
   "id": "afd89e8d",
   "metadata": {},
   "outputs": [
    {
     "name": "stdout",
     "output_type": "stream",
     "text": [
      "{51, 41.2, 10, 44, 63}\n",
      "<class 'set'>\n"
     ]
    }
   ],
   "source": [
    "set_resta = {41.2,51,63,44,10}\n",
    "print(set_resta)\n",
    "print(type(set_resta))"
   ]
  },
  {
   "cell_type": "code",
   "execution_count": 52,
   "id": "65225032",
   "metadata": {},
   "outputs": [],
   "source": [
    "dictionary_resta = {\"a\":41.2,\"b\":51,\"c\":63,\"d\":44,\"e\":10}"
   ]
  },
  {
   "cell_type": "code",
   "execution_count": 53,
   "id": "a76140a7",
   "metadata": {},
   "outputs": [
    {
     "data": {
      "text/plain": [
       "{'a': 41.2, 'b': 51, 'c': 63, 'd': 44, 'e': 10}"
      ]
     },
     "execution_count": 53,
     "metadata": {},
     "output_type": "execute_result"
    }
   ],
   "source": [
    "dictionary_resta"
   ]
  },
  {
   "cell_type": "code",
   "execution_count": 54,
   "id": "b4435de9",
   "metadata": {},
   "outputs": [
    {
     "name": "stdout",
     "output_type": "stream",
     "text": [
      "{'a': 41.2, 'b': 51, 'c': 63, 'd': 44, 'e': 10}\n",
      "<class 'dict'>\n"
     ]
    }
   ],
   "source": [
    "dictionary_resta = {\"a\":41.2,\"b\":51,\"c\":63,\"d\":44,\"e\":10}\n",
    "print(dictionary_resta)\n",
    "print(type(dictionary_resta))"
   ]
  },
  {
   "cell_type": "code",
   "execution_count": 55,
   "id": "2402aa3e",
   "metadata": {},
   "outputs": [
    {
     "data": {
      "text/plain": [
       "-126.8"
      ]
     },
     "execution_count": 55,
     "metadata": {},
     "output_type": "execute_result"
    }
   ],
   "source": [
    "41.2-51-63-44-10"
   ]
  },
  {
   "cell_type": "markdown",
   "id": "521a25de",
   "metadata": {},
   "source": [
    "# Multiplicación"
   ]
  },
  {
   "cell_type": "code",
   "execution_count": 56,
   "id": "d1446960",
   "metadata": {},
   "outputs": [
    {
     "name": "stdout",
     "output_type": "stream",
     "text": [
      "Selecciona la operación que quieras realizar ¨Suma, Resta, Multiplicación, división o potenciaMultiplicación\n"
     ]
    },
    {
     "data": {
      "text/plain": [
       "'Multiplicación'"
      ]
     },
     "execution_count": 56,
     "metadata": {},
     "output_type": "execute_result"
    }
   ],
   "source": [
    "input(\"Selecciona la operación que quieras realizar ¨Suma, Resta, Multiplicación, división o potencia\")"
   ]
  },
  {
   "cell_type": "code",
   "execution_count": 57,
   "id": "bd850f42",
   "metadata": {},
   "outputs": [
    {
     "name": "stdout",
     "output_type": "stream",
     "text": [
      "Escribe 5 números para realizar la operación52 48 96 300 42\n"
     ]
    },
    {
     "data": {
      "text/plain": [
       "'52 48 96 300 42'"
      ]
     },
     "execution_count": 57,
     "metadata": {},
     "output_type": "execute_result"
    }
   ],
   "source": [
    "input(\"Escribe 5 números para realizar la operación\")"
   ]
  },
  {
   "cell_type": "code",
   "execution_count": 60,
   "id": "2aea0053",
   "metadata": {},
   "outputs": [
    {
     "ename": "NameError",
     "evalue": "name 'list_multi' is not defined",
     "output_type": "error",
     "traceback": [
      "\u001b[1;31m---------------------------------------------------------------------------\u001b[0m",
      "\u001b[1;31mNameError\u001b[0m                                 Traceback (most recent call last)",
      "Cell \u001b[1;32mIn[60], line 1\u001b[0m\n\u001b[1;32m----> 1\u001b[0m list_multi[\u001b[38;5;241m52\u001b[39m,\u001b[38;5;241m48\u001b[39m,\u001b[38;5;241m96\u001b[39m,\u001b[38;5;241m300\u001b[39m,\u001b[38;5;241m42\u001b[39m]\n",
      "\u001b[1;31mNameError\u001b[0m: name 'list_multi' is not defined"
     ]
    }
   ],
   "source": [
    "list_multi[52,48,96,300,42]"
   ]
  },
  {
   "cell_type": "code",
   "execution_count": 62,
   "id": "267a6b13",
   "metadata": {},
   "outputs": [
    {
     "name": "stdout",
     "output_type": "stream",
     "text": [
      "[52, 48, 96, 300, 42]\n",
      "<class 'list'>\n"
     ]
    }
   ],
   "source": [
    "list_multi = [52,48,96,300,42]\n",
    "print(list_multi)\n",
    "print(type(list_multi))"
   ]
  },
  {
   "cell_type": "code",
   "execution_count": 63,
   "id": "fbfec3f7",
   "metadata": {},
   "outputs": [
    {
     "data": {
      "text/plain": [
       "[52, 48, 96, 300, 42]"
      ]
     },
     "execution_count": 63,
     "metadata": {},
     "output_type": "execute_result"
    }
   ],
   "source": [
    "list_multi"
   ]
  },
  {
   "cell_type": "code",
   "execution_count": 65,
   "id": "90fd1845",
   "metadata": {},
   "outputs": [
    {
     "name": "stdout",
     "output_type": "stream",
     "text": [
      "{96, 48, 52, 42, 300}\n",
      "<class 'set'>\n"
     ]
    }
   ],
   "source": [
    "set_multi = {52,48,96,300,42}\n",
    "print(set_multi)\n",
    "print(type(set_multi))"
   ]
  },
  {
   "cell_type": "code",
   "execution_count": 66,
   "id": "1971903d",
   "metadata": {},
   "outputs": [
    {
     "data": {
      "text/plain": [
       "{42, 48, 52, 96, 300}"
      ]
     },
     "execution_count": 66,
     "metadata": {},
     "output_type": "execute_result"
    }
   ],
   "source": [
    "set_multi"
   ]
  },
  {
   "cell_type": "code",
   "execution_count": 67,
   "id": "822c1454",
   "metadata": {},
   "outputs": [
    {
     "name": "stdout",
     "output_type": "stream",
     "text": [
      "{'a': 52, 'b': 48, 'c': 96, 'd': 300, 'e': 42}\n",
      "<class 'dict'>\n"
     ]
    }
   ],
   "source": [
    "dictionary_multi = {\"a\":52,\"b\":48,\"c\":96,\"d\":300,\"e\":42}\n",
    "print(dictionary_multi)\n",
    "print(type(dictionary_multi))"
   ]
  },
  {
   "cell_type": "code",
   "execution_count": 68,
   "id": "c036cbb7",
   "metadata": {},
   "outputs": [
    {
     "data": {
      "text/plain": [
       "{'a': 52, 'b': 48, 'c': 96, 'd': 300, 'e': 42}"
      ]
     },
     "execution_count": 68,
     "metadata": {},
     "output_type": "execute_result"
    }
   ],
   "source": [
    "dictionary_multi"
   ]
  },
  {
   "cell_type": "code",
   "execution_count": 69,
   "id": "f25fa0b1",
   "metadata": {},
   "outputs": [
    {
     "data": {
      "text/plain": [
       "3019161600"
      ]
     },
     "execution_count": 69,
     "metadata": {},
     "output_type": "execute_result"
    }
   ],
   "source": [
    "52*48*96*300*42"
   ]
  },
  {
   "cell_type": "markdown",
   "id": "e2623693",
   "metadata": {},
   "source": [
    "# División"
   ]
  },
  {
   "cell_type": "code",
   "execution_count": 70,
   "id": "79658dd7",
   "metadata": {},
   "outputs": [
    {
     "name": "stdout",
     "output_type": "stream",
     "text": [
      "Selecciona la operación que quieras realizar ¨Suma, Resta, Multiplicación, división o potenciaDivisión\n"
     ]
    },
    {
     "data": {
      "text/plain": [
       "'División'"
      ]
     },
     "execution_count": 70,
     "metadata": {},
     "output_type": "execute_result"
    }
   ],
   "source": [
    "input(\"Selecciona la operación que quieras realizar ¨Suma, Resta, Multiplicación, división o potencia\")"
   ]
  },
  {
   "cell_type": "code",
   "execution_count": 71,
   "id": "06bde641",
   "metadata": {},
   "outputs": [
    {
     "name": "stdout",
     "output_type": "stream",
     "text": [
      "Escribe 5 números para realizar la operación14 85 32 10 21\n"
     ]
    },
    {
     "data": {
      "text/plain": [
       "'14 85 32 10 21'"
      ]
     },
     "execution_count": 71,
     "metadata": {},
     "output_type": "execute_result"
    }
   ],
   "source": [
    "input(\"Escribe 5 números para realizar la operación\")"
   ]
  },
  {
   "cell_type": "code",
   "execution_count": 72,
   "id": "bfca5468",
   "metadata": {},
   "outputs": [
    {
     "ename": "TypeError",
     "evalue": "list indices must be integers or slices, not tuple",
     "output_type": "error",
     "traceback": [
      "\u001b[1;31m---------------------------------------------------------------------------\u001b[0m",
      "\u001b[1;31mTypeError\u001b[0m                                 Traceback (most recent call last)",
      "Cell \u001b[1;32mIn[72], line 1\u001b[0m\n\u001b[1;32m----> 1\u001b[0m \u001b[38;5;28mlist\u001b[39m[\u001b[38;5;241m14\u001b[39m,\u001b[38;5;241m85\u001b[39m,\u001b[38;5;241m32\u001b[39m,\u001b[38;5;241m10\u001b[39m,\u001b[38;5;241m21\u001b[39m]\n",
      "\u001b[1;31mTypeError\u001b[0m: list indices must be integers or slices, not tuple"
     ]
    }
   ],
   "source": [
    "list[14,85,32,10,21]"
   ]
  },
  {
   "cell_type": "code",
   "execution_count": 73,
   "id": "c28bda50",
   "metadata": {},
   "outputs": [
    {
     "name": "stdout",
     "output_type": "stream",
     "text": [
      "[14, 85, 32, 10, 21]\n",
      "<class 'list'>\n"
     ]
    }
   ],
   "source": [
    "list_div = [14,85,32,10,21]\n",
    "print(list_div)\n",
    "print(type(list_div))"
   ]
  },
  {
   "cell_type": "code",
   "execution_count": 74,
   "id": "dd5076e7",
   "metadata": {},
   "outputs": [
    {
     "data": {
      "text/plain": [
       "[14, 85, 32, 10, 21]"
      ]
     },
     "execution_count": 74,
     "metadata": {},
     "output_type": "execute_result"
    }
   ],
   "source": [
    "list_div"
   ]
  },
  {
   "cell_type": "code",
   "execution_count": 76,
   "id": "356932c0",
   "metadata": {},
   "outputs": [
    {
     "name": "stdout",
     "output_type": "stream",
     "text": [
      "{32, 85, 21, 10, 14}\n",
      "<class 'set'>\n"
     ]
    }
   ],
   "source": [
    "set_div = {14,85,32,10,21}\n",
    "print(set_div)\n",
    "print(type(set_div))"
   ]
  },
  {
   "cell_type": "code",
   "execution_count": 77,
   "id": "33257c5d",
   "metadata": {},
   "outputs": [
    {
     "data": {
      "text/plain": [
       "{10, 14, 21, 32, 85}"
      ]
     },
     "execution_count": 77,
     "metadata": {},
     "output_type": "execute_result"
    }
   ],
   "source": [
    "set_div"
   ]
  },
  {
   "cell_type": "code",
   "execution_count": 78,
   "id": "9d156fe9",
   "metadata": {},
   "outputs": [
    {
     "name": "stdout",
     "output_type": "stream",
     "text": [
      "{'a': 10, 'b': 14, 'c': 21, 'd': 10, 'e': 14}\n",
      "<class 'dict'>\n"
     ]
    }
   ],
   "source": [
    "dictionary_div = {\"a\":10,\"b\":14,\"c\":21,\"d\":10,\"e\":14}\n",
    "print(dictionary_div)\n",
    "print(type(dictionary_div))"
   ]
  },
  {
   "cell_type": "code",
   "execution_count": 79,
   "id": "be63d404",
   "metadata": {},
   "outputs": [
    {
     "data": {
      "text/plain": [
       "{'a': 10, 'b': 14, 'c': 21, 'd': 10, 'e': 14}"
      ]
     },
     "execution_count": 79,
     "metadata": {},
     "output_type": "execute_result"
    }
   ],
   "source": [
    "dictionary_div"
   ]
  },
  {
   "cell_type": "code",
   "execution_count": 81,
   "id": "0ba9a5aa",
   "metadata": {},
   "outputs": [
    {
     "data": {
      "text/plain": [
       "0"
      ]
     },
     "execution_count": 81,
     "metadata": {},
     "output_type": "execute_result"
    }
   ],
   "source": [
    "10//14 "
   ]
  },
  {
   "cell_type": "code",
   "execution_count": 82,
   "id": "1cf4674f",
   "metadata": {},
   "outputs": [
    {
     "data": {
      "text/plain": [
       "0"
      ]
     },
     "execution_count": 82,
     "metadata": {},
     "output_type": "execute_result"
    }
   ],
   "source": [
    "14//21"
   ]
  },
  {
   "cell_type": "code",
   "execution_count": 83,
   "id": "bf50a2b4",
   "metadata": {},
   "outputs": [
    {
     "data": {
      "text/plain": [
       "2"
      ]
     },
     "execution_count": 83,
     "metadata": {},
     "output_type": "execute_result"
    }
   ],
   "source": [
    "21//10"
   ]
  },
  {
   "cell_type": "code",
   "execution_count": 84,
   "id": "0da4296c",
   "metadata": {},
   "outputs": [
    {
     "data": {
      "text/plain": [
       "0"
      ]
     },
     "execution_count": 84,
     "metadata": {},
     "output_type": "execute_result"
    }
   ],
   "source": [
    "10//14"
   ]
  },
  {
   "cell_type": "markdown",
   "id": "bbd5b1f6",
   "metadata": {},
   "source": [
    "# Potencia"
   ]
  },
  {
   "cell_type": "code",
   "execution_count": 85,
   "id": "878d1c59",
   "metadata": {},
   "outputs": [
    {
     "name": "stdout",
     "output_type": "stream",
     "text": [
      "Selecciona la operación que quieras realizar ¨Suma, Resta, Multiplicación, división o potenciaPotencia\n"
     ]
    },
    {
     "data": {
      "text/plain": [
       "'Potencia'"
      ]
     },
     "execution_count": 85,
     "metadata": {},
     "output_type": "execute_result"
    }
   ],
   "source": [
    "input(\"Selecciona la operación que quieras realizar ¨Suma, Resta, Multiplicación, división o potencia\")"
   ]
  },
  {
   "cell_type": "code",
   "execution_count": 93,
   "id": "9a645b44",
   "metadata": {},
   "outputs": [
    {
     "name": "stdout",
     "output_type": "stream",
     "text": [
      "Escribe 5 números para realizar la operación10 24 21 11 32\n"
     ]
    },
    {
     "data": {
      "text/plain": [
       "'10 24 21 11 32'"
      ]
     },
     "execution_count": 93,
     "metadata": {},
     "output_type": "execute_result"
    }
   ],
   "source": [
    "input(\"Escribe 5 números para realizar la operación\")"
   ]
  },
  {
   "cell_type": "code",
   "execution_count": 94,
   "id": "20365811",
   "metadata": {},
   "outputs": [
    {
     "name": "stdout",
     "output_type": "stream",
     "text": [
      "[10, 24, 21, 11, 32]\n",
      "<class 'list'>\n"
     ]
    }
   ],
   "source": [
    "list_pot = [10,24,21,11,32]\n",
    "print(list_pot)\n",
    "print(type(list_pot))"
   ]
  },
  {
   "cell_type": "code",
   "execution_count": 95,
   "id": "ae2fb89c",
   "metadata": {},
   "outputs": [
    {
     "data": {
      "text/plain": [
       "[10, 24, 21, 11, 32]"
      ]
     },
     "execution_count": 95,
     "metadata": {},
     "output_type": "execute_result"
    }
   ],
   "source": [
    "list_pot"
   ]
  },
  {
   "cell_type": "code",
   "execution_count": 96,
   "id": "1bc60f76",
   "metadata": {},
   "outputs": [
    {
     "name": "stdout",
     "output_type": "stream",
     "text": [
      "{32, 21, 24, 10, 11}\n",
      "<class 'set'>\n"
     ]
    }
   ],
   "source": [
    "set_pot = {10,24,21,11,32}\n",
    "print(set_pot)\n",
    "print(type(set_pot))"
   ]
  },
  {
   "cell_type": "code",
   "execution_count": 97,
   "id": "a7e561b0",
   "metadata": {},
   "outputs": [
    {
     "data": {
      "text/plain": [
       "{10, 11, 21, 24, 32}"
      ]
     },
     "execution_count": 97,
     "metadata": {},
     "output_type": "execute_result"
    }
   ],
   "source": [
    "set_pot"
   ]
  },
  {
   "cell_type": "code",
   "execution_count": 98,
   "id": "3a2771ef",
   "metadata": {},
   "outputs": [
    {
     "name": "stdout",
     "output_type": "stream",
     "text": [
      "{'a': 10, 'b': 24, 'c': 21, 'd': 11, 'e': 32}\n",
      "<class 'dict'>\n"
     ]
    }
   ],
   "source": [
    "dictionary_pot = {\"a\":10,\"b\":24,\"c\":21,\"d\":11,\"e\":32}\n",
    "print(dictionary_pot)\n",
    "print(type(dictionary_pot))"
   ]
  },
  {
   "cell_type": "code",
   "execution_count": 99,
   "id": "7062eddc",
   "metadata": {},
   "outputs": [
    {
     "data": {
      "text/plain": [
       "{'a': 10, 'b': 24, 'c': 21, 'd': 11, 'e': 32}"
      ]
     },
     "execution_count": 99,
     "metadata": {},
     "output_type": "execute_result"
    }
   ],
   "source": [
    "dictionary_pot"
   ]
  },
  {
   "cell_type": "code",
   "execution_count": 102,
   "id": "e343bded",
   "metadata": {},
   "outputs": [
    {
     "data": {
      "text/plain": [
       "100"
      ]
     },
     "execution_count": 102,
     "metadata": {},
     "output_type": "execute_result"
    }
   ],
   "source": [
    "10**2"
   ]
  },
  {
   "cell_type": "code",
   "execution_count": 103,
   "id": "44d90420",
   "metadata": {},
   "outputs": [
    {
     "data": {
      "text/plain": [
       "576"
      ]
     },
     "execution_count": 103,
     "metadata": {},
     "output_type": "execute_result"
    }
   ],
   "source": [
    "24**2"
   ]
  },
  {
   "cell_type": "code",
   "execution_count": 104,
   "id": "45c8e857",
   "metadata": {},
   "outputs": [
    {
     "data": {
      "text/plain": [
       "441"
      ]
     },
     "execution_count": 104,
     "metadata": {},
     "output_type": "execute_result"
    }
   ],
   "source": [
    "21**2"
   ]
  },
  {
   "cell_type": "code",
   "execution_count": 105,
   "id": "445be1d3",
   "metadata": {},
   "outputs": [
    {
     "data": {
      "text/plain": [
       "121"
      ]
     },
     "execution_count": 105,
     "metadata": {},
     "output_type": "execute_result"
    }
   ],
   "source": [
    "11**2"
   ]
  },
  {
   "cell_type": "code",
   "execution_count": 106,
   "id": "572f7c71",
   "metadata": {},
   "outputs": [
    {
     "data": {
      "text/plain": [
       "1024"
      ]
     },
     "execution_count": 106,
     "metadata": {},
     "output_type": "execute_result"
    }
   ],
   "source": [
    "32**2"
   ]
  },
  {
   "cell_type": "code",
   "execution_count": null,
   "id": "32904e28",
   "metadata": {},
   "outputs": [],
   "source": []
  }
 ],
 "metadata": {
  "kernelspec": {
   "display_name": "Python 3 (ipykernel)",
   "language": "python",
   "name": "python3"
  },
  "language_info": {
   "codemirror_mode": {
    "name": "ipython",
    "version": 3
   },
   "file_extension": ".py",
   "mimetype": "text/x-python",
   "name": "python",
   "nbconvert_exporter": "python",
   "pygments_lexer": "ipython3",
   "version": "3.11.5"
  }
 },
 "nbformat": 4,
 "nbformat_minor": 5
}
