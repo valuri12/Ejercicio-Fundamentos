{
 "cells": [
  {
   "cell_type": "markdown",
   "id": "fc7d8cc8",
   "metadata": {},
   "source": [
    "# Suma"
   ]
  },
  {
   "cell_type": "code",
   "execution_count": 1,
   "id": "d938be33",
   "metadata": {},
   "outputs": [
    {
     "name": "stdout",
     "output_type": "stream",
     "text": [
      "Selecciona la operación que quieras realizar´Suma, Resta, Multiplicacion, Division o PotenciaSuma\n"
     ]
    },
    {
     "data": {
      "text/plain": [
       "'Suma'"
      ]
     },
     "execution_count": 1,
     "metadata": {},
     "output_type": "execute_result"
    }
   ],
   "source": [
    "input(\"Selecciona la operación que quieras realizar´Suma, Resta, Multiplicacion, Division o Potencia\")"
   ]
  },
  {
   "cell_type": "code",
   "execution_count": 2,
   "id": "18b857b1",
   "metadata": {},
   "outputs": [
    {
     "name": "stdout",
     "output_type": "stream",
     "text": [
      "Escribe 5 numeros para realizar la operacion41 87 23 69 51\n"
     ]
    },
    {
     "data": {
      "text/plain": [
       "'41 87 23 69 51'"
      ]
     },
     "execution_count": 2,
     "metadata": {},
     "output_type": "execute_result"
    }
   ],
   "source": [
    "input(\"Escribe 5 numeros para realizar la operacion\")"
   ]
  },
  {
   "cell_type": "code",
   "execution_count": 3,
   "id": "c68b64d9",
   "metadata": {},
   "outputs": [
    {
     "data": {
      "text/plain": [
       "list[41, 87, 23, 69, 51]"
      ]
     },
     "execution_count": 3,
     "metadata": {},
     "output_type": "execute_result"
    }
   ],
   "source": [
    "list[41,87,23,69,51]"
   ]
  },
  {
   "cell_type": "code",
   "execution_count": 4,
   "id": "1ddcc99f",
   "metadata": {},
   "outputs": [
    {
     "name": "stdout",
     "output_type": "stream",
     "text": [
      "[41, 87, 23, 69, 51]\n",
      "<class 'list'>\n"
     ]
    }
   ],
   "source": [
    "list= [41,87,23,69,51]\n",
    "print(list)\n",
    "print(type(list))"
   ]
  },
  {
   "cell_type": "code",
   "execution_count": 19,
   "id": "5fa934ab",
   "metadata": {},
   "outputs": [],
   "source": [
    "set={23,41,51,69,87}"
   ]
  },
  {
   "cell_type": "code",
   "execution_count": 18,
   "id": "ff80fd2c",
   "metadata": {},
   "outputs": [
    {
     "data": {
      "text/plain": [
       "{23, 41, 51, 69, 87}"
      ]
     },
     "execution_count": 18,
     "metadata": {},
     "output_type": "execute_result"
    }
   ],
   "source": [
    "set"
   ]
  },
  {
   "cell_type": "code",
   "execution_count": 15,
   "id": "f9114e04",
   "metadata": {},
   "outputs": [
    {
     "name": "stdout",
     "output_type": "stream",
     "text": [
      "{51, 69, 87, 23, 41}\n",
      "<class 'set'>\n"
     ]
    }
   ],
   "source": [
    "set= {23,41,51,69,87}\n",
    "print(set)\n",
    "print(type(set))"
   ]
  },
  {
   "cell_type": "code",
   "execution_count": 20,
   "id": "958d0625",
   "metadata": {},
   "outputs": [
    {
     "name": "stdout",
     "output_type": "stream",
     "text": [
      "{'a': 23, 'b': 41, 'c': 51, 'd': 69, 'e': 87}\n",
      "<class 'dict'>\n"
     ]
    }
   ],
   "source": [
    "dictionary = {\"a\":23,\"b\":41,\"c\":51,\"d\":69,\"e\":87}\n",
    "print(dictionary)\n",
    "print(type(dictionary))"
   ]
  },
  {
   "cell_type": "code",
   "execution_count": 21,
   "id": "7b6d3f46",
   "metadata": {},
   "outputs": [],
   "source": [
    "dictionary = {\"a\":23,\"b\":41,\"c\":51,\"d\":69,\"e\":87}"
   ]
  },
  {
   "cell_type": "code",
   "execution_count": 22,
   "id": "07a4c6b9",
   "metadata": {},
   "outputs": [
    {
     "data": {
      "text/plain": [
       "{'a': 23, 'b': 41, 'c': 51, 'd': 69, 'e': 87}"
      ]
     },
     "execution_count": 22,
     "metadata": {},
     "output_type": "execute_result"
    }
   ],
   "source": [
    "dictionary"
   ]
  },
  {
   "cell_type": "code",
   "execution_count": 23,
   "id": "08c0b167",
   "metadata": {},
   "outputs": [
    {
     "data": {
      "text/plain": [
       "271"
      ]
     },
     "execution_count": 23,
     "metadata": {},
     "output_type": "execute_result"
    }
   ],
   "source": [
    "41+87+23+69+51"
   ]
  },
  {
   "cell_type": "markdown",
   "id": "ae30bc31",
   "metadata": {},
   "source": [
    "# Resta"
   ]
  },
  {
   "cell_type": "code",
   "execution_count": 24,
   "id": "a1d8ca48",
   "metadata": {},
   "outputs": [
    {
     "name": "stdout",
     "output_type": "stream",
     "text": [
      "Selecciona la operación que quieras realizar´Suma, Resta, Multiplicacion, Division o PotenciaResta\n"
     ]
    },
    {
     "data": {
      "text/plain": [
       "'Resta'"
      ]
     },
     "execution_count": 24,
     "metadata": {},
     "output_type": "execute_result"
    }
   ],
   "source": [
    "input(\"Selecciona la operación que quieras realizar´Suma, Resta, Multiplicacion, Division o Potencia\")"
   ]
  },
  {
   "cell_type": "code",
   "execution_count": 25,
   "id": "e03912de",
   "metadata": {},
   "outputs": [
    {
     "name": "stdout",
     "output_type": "stream",
     "text": [
      "Escribe 5 numeros para realizar la operacion41.2 51 63 44 10\n"
     ]
    },
    {
     "data": {
      "text/plain": [
       "'41.2 51 63 44 10'"
      ]
     },
     "execution_count": 25,
     "metadata": {},
     "output_type": "execute_result"
    }
   ],
   "source": [
    "input(\"Escribe 5 numeros para realizar la operacion\")"
   ]
  },
  {
   "cell_type": "code",
   "execution_count": 35,
   "id": "8e06c714",
   "metadata": {},
   "outputs": [
    {
     "ename": "TypeError",
     "evalue": "list indices must be integers or slices, not tuple",
     "output_type": "error",
     "traceback": [
      "\u001b[1;31m---------------------------------------------------------------------------\u001b[0m",
      "\u001b[1;31mTypeError\u001b[0m                                 Traceback (most recent call last)",
      "Cell \u001b[1;32mIn[35], line 1\u001b[0m\n\u001b[1;32m----> 1\u001b[0m list_resta[\u001b[38;5;241m41.2\u001b[39m, \u001b[38;5;241m51\u001b[39m, \u001b[38;5;241m63\u001b[39m ,\u001b[38;5;241m44\u001b[39m ,\u001b[38;5;241m10\u001b[39m]\n",
      "\u001b[1;31mTypeError\u001b[0m: list indices must be integers or slices, not tuple"
     ]
    }
   ],
   "source": [
    "list_resta[41.2, 51, 63 ,44 ,10]"
   ]
  },
  {
   "cell_type": "code",
   "execution_count": 36,
   "id": "4867d4d7",
   "metadata": {},
   "outputs": [
    {
     "name": "stdout",
     "output_type": "stream",
     "text": [
      "[41.2, 51, 63, 44, 10]\n",
      "<class 'list'>\n"
     ]
    }
   ],
   "source": [
    "list_resta= [41.2,51,63,44,10]\n",
    "print(list_resta)\n",
    "print(type(list_resta))"
   ]
  },
  {
   "cell_type": "code",
   "execution_count": 37,
   "id": "e1549526",
   "metadata": {},
   "outputs": [
    {
     "data": {
      "text/plain": [
       "[41.2, 51, 63, 44, 10]"
      ]
     },
     "execution_count": 37,
     "metadata": {},
     "output_type": "execute_result"
    }
   ],
   "source": [
    "list_resta"
   ]
  },
  {
   "cell_type": "code",
   "execution_count": 40,
   "id": "76bf290b",
   "metadata": {},
   "outputs": [],
   "source": [
    "set_resta = {41.2,51,63,44,10}"
   ]
  },
  {
   "cell_type": "code",
   "execution_count": 41,
   "id": "fe4a57bc",
   "metadata": {},
   "outputs": [
    {
     "data": {
      "text/plain": [
       "{10, 41.2, 44, 51, 63}"
      ]
     },
     "execution_count": 41,
     "metadata": {},
     "output_type": "execute_result"
    }
   ],
   "source": [
    "set_resta"
   ]
  },
  {
   "cell_type": "code",
   "execution_count": 42,
   "id": "5e5fb3a5",
   "metadata": {},
   "outputs": [
    {
     "name": "stdout",
     "output_type": "stream",
     "text": [
      "{51, 41.2, 10, 44, 63}\n",
      "<class 'set'>\n"
     ]
    }
   ],
   "source": [
    "set_resta = {41.2,51,63,44,10}\n",
    "print(set_resta)\n",
    "print(type(set_resta))"
   ]
  },
  {
   "cell_type": "code",
   "execution_count": 44,
   "id": "ba027057",
   "metadata": {},
   "outputs": [],
   "source": [
    "dictionary_resta={\"a\":41.2,\"b\":51,\"c\":63,\"d\":44,\"e\":10}"
   ]
  },
  {
   "cell_type": "code",
   "execution_count": 45,
   "id": "56c96c7a",
   "metadata": {},
   "outputs": [
    {
     "data": {
      "text/plain": [
       "{'a': 41.2, 'b': 51, 'c': 63, 'd': 44, 'e': 10}"
      ]
     },
     "execution_count": 45,
     "metadata": {},
     "output_type": "execute_result"
    }
   ],
   "source": [
    "dictionary_resta"
   ]
  },
  {
   "cell_type": "code",
   "execution_count": 46,
   "id": "5207a09e",
   "metadata": {},
   "outputs": [
    {
     "name": "stdout",
     "output_type": "stream",
     "text": [
      "{'a': 41.2, 'b': 51, 'c': 63, 'd': 44, 'e': 10}\n",
      "<class 'dict'>\n"
     ]
    }
   ],
   "source": [
    "dictionary_resta = {\"a\":41.2,\"b\":51,\"c\":63,\"d\":44,\"e\":10}\n",
    "print(dictionary_resta)\n",
    "print(type(dictionary_resta))"
   ]
  },
  {
   "cell_type": "code",
   "execution_count": 47,
   "id": "705132bd",
   "metadata": {},
   "outputs": [
    {
     "data": {
      "text/plain": [
       "-126.8"
      ]
     },
     "execution_count": 47,
     "metadata": {},
     "output_type": "execute_result"
    }
   ],
   "source": [
    "41.2-51-63-44-10"
   ]
  },
  {
   "cell_type": "markdown",
   "id": "96ad2e7a",
   "metadata": {},
   "source": [
    "# Multiplicacion"
   ]
  },
  {
   "cell_type": "code",
   "execution_count": 48,
   "id": "3f987c84",
   "metadata": {},
   "outputs": [
    {
     "name": "stdout",
     "output_type": "stream",
     "text": [
      "Selecciona la operación que quieras realizar´Suma, Resta, Multiplicacion, Division o PotenciaMultiplicacion\n"
     ]
    },
    {
     "data": {
      "text/plain": [
       "'Multiplicacion'"
      ]
     },
     "execution_count": 48,
     "metadata": {},
     "output_type": "execute_result"
    }
   ],
   "source": [
    "input(\"Selecciona la operación que quieras realizar´Suma, Resta, Multiplicacion, Division o Potencia\")"
   ]
  },
  {
   "cell_type": "code",
   "execution_count": 49,
   "id": "65a62248",
   "metadata": {},
   "outputs": [
    {
     "name": "stdout",
     "output_type": "stream",
     "text": [
      "Escribe 5 numeros para realizar la operacion52 48 96 300 42\n"
     ]
    },
    {
     "data": {
      "text/plain": [
       "'52 48 96 300 42'"
      ]
     },
     "execution_count": 49,
     "metadata": {},
     "output_type": "execute_result"
    }
   ],
   "source": [
    "input(\"Escribe 5 numeros para realizar la operacion\")"
   ]
  },
  {
   "cell_type": "code",
   "execution_count": 50,
   "id": "488a06f7",
   "metadata": {},
   "outputs": [
    {
     "ename": "NameError",
     "evalue": "name 'list_multi' is not defined",
     "output_type": "error",
     "traceback": [
      "\u001b[1;31m---------------------------------------------------------------------------\u001b[0m",
      "\u001b[1;31mNameError\u001b[0m                                 Traceback (most recent call last)",
      "Cell \u001b[1;32mIn[50], line 1\u001b[0m\n\u001b[1;32m----> 1\u001b[0m list_multi[\u001b[38;5;241m52\u001b[39m,\u001b[38;5;241m48\u001b[39m,\u001b[38;5;241m96\u001b[39m,\u001b[38;5;241m300\u001b[39m,\u001b[38;5;241m42\u001b[39m]\n",
      "\u001b[1;31mNameError\u001b[0m: name 'list_multi' is not defined"
     ]
    }
   ],
   "source": [
    "list_multi[52,48,96,300,42]"
   ]
  },
  {
   "cell_type": "code",
   "execution_count": 53,
   "id": "597e6c7d",
   "metadata": {},
   "outputs": [
    {
     "name": "stdout",
     "output_type": "stream",
     "text": [
      "[52, 48, 96, 300, 42]\n",
      "<class 'list'>\n"
     ]
    }
   ],
   "source": [
    "list_multi = [52,48,96,300,42]\n",
    "print(list_multi)\n",
    "print(type(list_multi))"
   ]
  },
  {
   "cell_type": "code",
   "execution_count": 54,
   "id": "a54b6e9c",
   "metadata": {},
   "outputs": [
    {
     "data": {
      "text/plain": [
       "[52, 48, 96, 300, 42]"
      ]
     },
     "execution_count": 54,
     "metadata": {},
     "output_type": "execute_result"
    }
   ],
   "source": [
    "list_multi"
   ]
  },
  {
   "cell_type": "code",
   "execution_count": 55,
   "id": "7a5f9db5",
   "metadata": {},
   "outputs": [
    {
     "name": "stdout",
     "output_type": "stream",
     "text": [
      "{96, 48, 52, 42, 300}\n",
      "<class 'set'>\n"
     ]
    }
   ],
   "source": [
    "set_multi = {52,48,96,300,42}\n",
    "print(set_multi)\n",
    "print(type(set_multi))"
   ]
  },
  {
   "cell_type": "code",
   "execution_count": 56,
   "id": "5d717061",
   "metadata": {},
   "outputs": [
    {
     "data": {
      "text/plain": [
       "{42, 48, 52, 96, 300}"
      ]
     },
     "execution_count": 56,
     "metadata": {},
     "output_type": "execute_result"
    }
   ],
   "source": [
    "set_multi"
   ]
  },
  {
   "cell_type": "code",
   "execution_count": 57,
   "id": "62f53102",
   "metadata": {},
   "outputs": [
    {
     "name": "stdout",
     "output_type": "stream",
     "text": [
      "{'a': 52, 'b': 48, 'c': 96, 'd': 300, 'e': 42}\n",
      "<class 'dict'>\n"
     ]
    }
   ],
   "source": [
    "dictionary_multi = dictionary_mylti = {\"a\":52,\"b\":48,\"c\":96,\"d\":300,\"e\":42}\n",
    "print(dictionary_multi)\n",
    "print(type(dictionary_multi))"
   ]
  },
  {
   "cell_type": "code",
   "execution_count": 58,
   "id": "85063edc",
   "metadata": {},
   "outputs": [
    {
     "data": {
      "text/plain": [
       "{'a': 52, 'b': 48, 'c': 96, 'd': 300, 'e': 42}"
      ]
     },
     "execution_count": 58,
     "metadata": {},
     "output_type": "execute_result"
    }
   ],
   "source": [
    "dictionary_multi"
   ]
  },
  {
   "cell_type": "code",
   "execution_count": 59,
   "id": "90741b6b",
   "metadata": {},
   "outputs": [
    {
     "data": {
      "text/plain": [
       "1212096"
      ]
     },
     "execution_count": 59,
     "metadata": {},
     "output_type": "execute_result"
    }
   ],
   "source": [
    "52*48+96*300*42"
   ]
  },
  {
   "cell_type": "markdown",
   "id": "0ba8801a",
   "metadata": {},
   "source": [
    "# Division"
   ]
  },
  {
   "cell_type": "code",
   "execution_count": 74,
   "id": "98a78905",
   "metadata": {},
   "outputs": [
    {
     "name": "stdout",
     "output_type": "stream",
     "text": [
      "Selecciona la operación que quieras realizar´Suma, Resta, Multiplicacion, Division o PotenciaDivision\n"
     ]
    },
    {
     "data": {
      "text/plain": [
       "'Division'"
      ]
     },
     "execution_count": 74,
     "metadata": {},
     "output_type": "execute_result"
    }
   ],
   "source": [
    "input(\"Selecciona la operación que quieras realizar´Suma, Resta, Multiplicacion, Division o Potencia\")"
   ]
  },
  {
   "cell_type": "code",
   "execution_count": 61,
   "id": "3c161f00",
   "metadata": {},
   "outputs": [
    {
     "name": "stdout",
     "output_type": "stream",
     "text": [
      "Escribe 5 numeros para realizar la operacion14 85 32 10 21\n"
     ]
    },
    {
     "data": {
      "text/plain": [
       "'14 85 32 10 21'"
      ]
     },
     "execution_count": 61,
     "metadata": {},
     "output_type": "execute_result"
    }
   ],
   "source": [
    "input(\"Escribe 5 numeros para realizar la operacion\")"
   ]
  },
  {
   "cell_type": "code",
   "execution_count": 63,
   "id": "ff2c5f4d",
   "metadata": {},
   "outputs": [
    {
     "ename": "TypeError",
     "evalue": "list indices must be integers or slices, not tuple",
     "output_type": "error",
     "traceback": [
      "\u001b[1;31m---------------------------------------------------------------------------\u001b[0m",
      "\u001b[1;31mTypeError\u001b[0m                                 Traceback (most recent call last)",
      "Cell \u001b[1;32mIn[63], line 1\u001b[0m\n\u001b[1;32m----> 1\u001b[0m \u001b[38;5;28mlist\u001b[39m[\u001b[38;5;241m14\u001b[39m,\u001b[38;5;241m85\u001b[39m,\u001b[38;5;241m32\u001b[39m,\u001b[38;5;241m10\u001b[39m,\u001b[38;5;241m21\u001b[39m]\n",
      "\u001b[1;31mTypeError\u001b[0m: list indices must be integers or slices, not tuple"
     ]
    }
   ],
   "source": [
    "list[14,85,32,10,21]"
   ]
  },
  {
   "cell_type": "code",
   "execution_count": 64,
   "id": "fdc67f3b",
   "metadata": {},
   "outputs": [
    {
     "name": "stdout",
     "output_type": "stream",
     "text": [
      "[14, 85, 32, 10, 21]\n",
      "<class 'list'>\n"
     ]
    }
   ],
   "source": [
    "list_div = [14,85,32,10,21]\n",
    "print(list_div)\n",
    "print(type(list_div))"
   ]
  },
  {
   "cell_type": "code",
   "execution_count": 65,
   "id": "6c2f2b81",
   "metadata": {},
   "outputs": [
    {
     "data": {
      "text/plain": [
       "[14, 85, 32, 10, 21]"
      ]
     },
     "execution_count": 65,
     "metadata": {},
     "output_type": "execute_result"
    }
   ],
   "source": [
    "list_div"
   ]
  },
  {
   "cell_type": "code",
   "execution_count": 66,
   "id": "35cf3b13",
   "metadata": {},
   "outputs": [
    {
     "name": "stdout",
     "output_type": "stream",
     "text": [
      "{32, 85, 21, 10, 14}\n",
      "<class 'set'>\n"
     ]
    }
   ],
   "source": [
    "set_div = {14,85,32,10,21}\n",
    "print(set_div)\n",
    "print(type(set_div))"
   ]
  },
  {
   "cell_type": "code",
   "execution_count": 67,
   "id": "0367cd70",
   "metadata": {},
   "outputs": [
    {
     "data": {
      "text/plain": [
       "{10, 14, 21, 32, 85}"
      ]
     },
     "execution_count": 67,
     "metadata": {},
     "output_type": "execute_result"
    }
   ],
   "source": [
    "set_div"
   ]
  },
  {
   "cell_type": "code",
   "execution_count": 68,
   "id": "a28bb81c",
   "metadata": {},
   "outputs": [
    {
     "name": "stdout",
     "output_type": "stream",
     "text": [
      "{'a': 14, 'b': 85, 'c': 32, 'd': 10, 'e': 21}\n",
      "<class 'dict'>\n"
     ]
    }
   ],
   "source": [
    "dictionary_div = {\"a\":14,\"b\":85,\"c\":32,\"d\":10,\"e\":21}\n",
    "print(dictionary_div)\n",
    "print(type(dictionary_div))"
   ]
  },
  {
   "cell_type": "code",
   "execution_count": 69,
   "id": "1d0e4670",
   "metadata": {},
   "outputs": [
    {
     "data": {
      "text/plain": [
       "{'a': 14, 'b': 85, 'c': 32, 'd': 10, 'e': 21}"
      ]
     },
     "execution_count": 69,
     "metadata": {},
     "output_type": "execute_result"
    }
   ],
   "source": [
    "dictionary_div"
   ]
  },
  {
   "cell_type": "code",
   "execution_count": 70,
   "id": "9eb2b8ea",
   "metadata": {},
   "outputs": [
    {
     "data": {
      "text/plain": [
       "0"
      ]
     },
     "execution_count": 70,
     "metadata": {},
     "output_type": "execute_result"
    }
   ],
   "source": [
    "10//14"
   ]
  },
  {
   "cell_type": "code",
   "execution_count": 71,
   "id": "e4bb15d9",
   "metadata": {},
   "outputs": [
    {
     "data": {
      "text/plain": [
       "0"
      ]
     },
     "execution_count": 71,
     "metadata": {},
     "output_type": "execute_result"
    }
   ],
   "source": [
    "14//21"
   ]
  },
  {
   "cell_type": "code",
   "execution_count": 72,
   "id": "6436d132",
   "metadata": {},
   "outputs": [
    {
     "data": {
      "text/plain": [
       "2"
      ]
     },
     "execution_count": 72,
     "metadata": {},
     "output_type": "execute_result"
    }
   ],
   "source": [
    "21//10"
   ]
  },
  {
   "cell_type": "code",
   "execution_count": 73,
   "id": "d51cd35d",
   "metadata": {},
   "outputs": [
    {
     "data": {
      "text/plain": [
       "0"
      ]
     },
     "execution_count": 73,
     "metadata": {},
     "output_type": "execute_result"
    }
   ],
   "source": [
    "10//14"
   ]
  },
  {
   "cell_type": "markdown",
   "id": "545537a0",
   "metadata": {},
   "source": [
    "# Potencia"
   ]
  },
  {
   "cell_type": "code",
   "execution_count": 75,
   "id": "39e0ff17",
   "metadata": {},
   "outputs": [
    {
     "name": "stdout",
     "output_type": "stream",
     "text": [
      "Selecciona la operación que quieras realizar´Suma, Resta, Multiplicacion, Division o PotenciaPotencia\n"
     ]
    },
    {
     "data": {
      "text/plain": [
       "'Potencia'"
      ]
     },
     "execution_count": 75,
     "metadata": {},
     "output_type": "execute_result"
    }
   ],
   "source": [
    "input(\"Selecciona la operación que quieras realizar´Suma, Resta, Multiplicacion, Division o Potencia\")"
   ]
  },
  {
   "cell_type": "code",
   "execution_count": 76,
   "id": "a55045aa",
   "metadata": {},
   "outputs": [
    {
     "name": "stdout",
     "output_type": "stream",
     "text": [
      "Escribe 5 numeros para realizar la operacion10 24 21 11 32 \n"
     ]
    },
    {
     "data": {
      "text/plain": [
       "'10 24 21 11 32 '"
      ]
     },
     "execution_count": 76,
     "metadata": {},
     "output_type": "execute_result"
    }
   ],
   "source": [
    "input(\"Escribe 5 numeros para realizar la operacion\")"
   ]
  },
  {
   "cell_type": "code",
   "execution_count": 78,
   "id": "7c4d6c80",
   "metadata": {},
   "outputs": [
    {
     "name": "stdout",
     "output_type": "stream",
     "text": [
      "[10, 24, 21, 11, 32]\n",
      "<class 'list'>\n"
     ]
    }
   ],
   "source": [
    "list_pot = [10,24,21,11,32]\n",
    "print(list_pot)\n",
    "print(type(list_pot))"
   ]
  },
  {
   "cell_type": "code",
   "execution_count": 79,
   "id": "f0780bcf",
   "metadata": {},
   "outputs": [
    {
     "data": {
      "text/plain": [
       "[10, 24, 21, 11, 32]"
      ]
     },
     "execution_count": 79,
     "metadata": {},
     "output_type": "execute_result"
    }
   ],
   "source": [
    "list_pot"
   ]
  },
  {
   "cell_type": "code",
   "execution_count": 80,
   "id": "db2eeace",
   "metadata": {},
   "outputs": [
    {
     "name": "stdout",
     "output_type": "stream",
     "text": [
      "{32, 21, 24, 10, 11}\n",
      "<class 'set'>\n"
     ]
    }
   ],
   "source": [
    "set_pot = {10,24,21,11,32}\n",
    "print(set_pot)\n",
    "print(type(set_pot))"
   ]
  },
  {
   "cell_type": "code",
   "execution_count": 81,
   "id": "a06d18f1",
   "metadata": {},
   "outputs": [
    {
     "data": {
      "text/plain": [
       "{10, 11, 21, 24, 32}"
      ]
     },
     "execution_count": 81,
     "metadata": {},
     "output_type": "execute_result"
    }
   ],
   "source": [
    "set_pot"
   ]
  },
  {
   "cell_type": "code",
   "execution_count": 82,
   "id": "828d3ad4",
   "metadata": {},
   "outputs": [
    {
     "name": "stdout",
     "output_type": "stream",
     "text": [
      "{'a': 10, 'b': 24, 'c': 21, 'd': 11, 'e': 32}\n",
      "<class 'dict'>\n"
     ]
    }
   ],
   "source": [
    "dictionary_pot = {\"a\":10,\"b\":24,\"c\":21,\"d\":11,\"e\":32}\n",
    "print(dictionary_pot)\n",
    "print(type(dictionary_pot))"
   ]
  },
  {
   "cell_type": "code",
   "execution_count": 83,
   "id": "52d98c6f",
   "metadata": {},
   "outputs": [
    {
     "data": {
      "text/plain": [
       "{'a': 10, 'b': 24, 'c': 21, 'd': 11, 'e': 32}"
      ]
     },
     "execution_count": 83,
     "metadata": {},
     "output_type": "execute_result"
    }
   ],
   "source": [
    "dictionary_pot"
   ]
  },
  {
   "cell_type": "code",
   "execution_count": 84,
   "id": "54887d5a",
   "metadata": {},
   "outputs": [
    {
     "data": {
      "text/plain": [
       "100"
      ]
     },
     "execution_count": 84,
     "metadata": {},
     "output_type": "execute_result"
    }
   ],
   "source": [
    "10**2"
   ]
  },
  {
   "cell_type": "code",
   "execution_count": 85,
   "id": "cd5d7888",
   "metadata": {},
   "outputs": [
    {
     "data": {
      "text/plain": [
       "576"
      ]
     },
     "execution_count": 85,
     "metadata": {},
     "output_type": "execute_result"
    }
   ],
   "source": [
    "24**2"
   ]
  },
  {
   "cell_type": "code",
   "execution_count": 86,
   "id": "ee9a2f82",
   "metadata": {},
   "outputs": [
    {
     "data": {
      "text/plain": [
       "441"
      ]
     },
     "execution_count": 86,
     "metadata": {},
     "output_type": "execute_result"
    }
   ],
   "source": [
    "21**2"
   ]
  },
  {
   "cell_type": "code",
   "execution_count": 87,
   "id": "393ce140",
   "metadata": {},
   "outputs": [
    {
     "data": {
      "text/plain": [
       "121"
      ]
     },
     "execution_count": 87,
     "metadata": {},
     "output_type": "execute_result"
    }
   ],
   "source": [
    "11**2"
   ]
  },
  {
   "cell_type": "code",
   "execution_count": 88,
   "id": "afe81bc7",
   "metadata": {},
   "outputs": [
    {
     "data": {
      "text/plain": [
       "1024"
      ]
     },
     "execution_count": 88,
     "metadata": {},
     "output_type": "execute_result"
    }
   ],
   "source": [
    "32**2"
   ]
  }
 ],
 "metadata": {
  "kernelspec": {
   "display_name": "Python 3 (ipykernel)",
   "language": "python",
   "name": "python3"
  },
  "language_info": {
   "codemirror_mode": {
    "name": "ipython",
    "version": 3
   },
   "file_extension": ".py",
   "mimetype": "text/x-python",
   "name": "python",
   "nbconvert_exporter": "python",
   "pygments_lexer": "ipython3",
   "version": "3.11.5"
  }
 },
 "nbformat": 4,
 "nbformat_minor": 5
}
