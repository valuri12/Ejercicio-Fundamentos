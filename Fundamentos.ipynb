{
 "cells": [
  {
   "cell_type": "markdown",
   "id": "ed2a6822",
   "metadata": {},
   "source": [
    "# WRA"
   ]
  },
  {
   "cell_type": "code",
   "execution_count": 13,
   "id": "d21eac1f",
   "metadata": {},
   "outputs": [
    {
     "name": "stdout",
     "output_type": "stream",
     "text": [
      "Ingresa el nombre de tu libro favoritoComer, Rezar, Amar\n",
      "Comer, Rezar, Amar\n",
      "<class 'str'>\n"
     ]
    }
   ],
   "source": [
    "my_favorite_book = (input(\"Ingresa el nombre de tu libro favorito\"))\n",
    "(print)(my_favorite_book)\n",
    "(print)(type(my_favorite_book))\n",
    "#str"
   ]
  },
  {
   "cell_type": "code",
   "execution_count": 12,
   "id": "0bfdae93",
   "metadata": {},
   "outputs": [
    {
     "name": "stdout",
     "output_type": "stream",
     "text": [
      "4.9\n",
      "<class 'float'>\n"
     ]
    }
   ],
   "source": [
    "#float\n",
    "mi_calificacion=4.9\n",
    "(print)(mi_calificacion)\n",
    "(print)(type(mi_calificacion))"
   ]
  },
  {
   "cell_type": "code",
   "execution_count": 14,
   "id": "2130f4cc",
   "metadata": {},
   "outputs": [
    {
     "name": "stdout",
     "output_type": "stream",
     "text": [
      "Ingresa el nombre de tu serie favoritaHow I Meet Your Mother\n",
      "How I Meet Your Mother\n",
      "<class 'str'>\n"
     ]
    }
   ],
   "source": [
    "my_favorite_tvshow = (input(\"Ingresa el nombre de tu serie favorita\"))\n",
    "(print)(my_favorite_tvshow)\n",
    "(print)(type(my_favorite_tvshow))\n",
    "#str"
   ]
  },
  {
   "cell_type": "code",
   "execution_count": 15,
   "id": "0059ede4",
   "metadata": {},
   "outputs": [
    {
     "name": "stdout",
     "output_type": "stream",
     "text": [
      "5\n",
      "<class 'int'>\n"
     ]
    }
   ],
   "source": [
    "#int\n",
    "mi_calificacion=5\n",
    "(print)(mi_calificacion)\n",
    "(print)(type(mi_calificacion))"
   ]
  },
  {
   "cell_type": "code",
   "execution_count": null,
   "id": "1dfe9245",
   "metadata": {},
   "outputs": [],
   "source": []
  }
 ],
 "metadata": {
  "kernelspec": {
   "display_name": "Python 3 (ipykernel)",
   "language": "python",
   "name": "python3"
  },
  "language_info": {
   "codemirror_mode": {
    "name": "ipython",
    "version": 3
   },
   "file_extension": ".py",
   "mimetype": "text/x-python",
   "name": "python",
   "nbconvert_exporter": "python",
   "pygments_lexer": "ipython3",
   "version": "3.11.5"
  }
 },
 "nbformat": 4,
 "nbformat_minor": 5
}
